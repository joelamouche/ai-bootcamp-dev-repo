{
 "cells": [
  {
   "cell_type": "markdown",
   "id": "693800ad",
   "metadata": {},
   "source": [
    "### Import Dependencies"
   ]
  },
  {
   "cell_type": "code",
   "execution_count": 7,
   "id": "32da84d6",
   "metadata": {},
   "outputs": [],
   "source": [
    "from pydantic import BaseModel, Field\n",
    "\n",
    "from qdrant_client import QdrantClient\n",
    "from qdrant_client.models import Prefetch, Filter, FieldCondition, MatchText, FusionQuery, Document\n",
    "\n",
    "\n",
    "from langsmith import traceable, get_current_run_tree\n",
    "\n",
    "from langgraph.graph import StateGraph, START, END\n",
    "from langgraph.prebuilt import ToolNode\n",
    "from langgraph.types import Send, Command\n",
    "\n",
    "from langchain_core.messages import AIMessage, ToolMessage\n",
    "\n",
    "from jinja2 import Template\n",
    "from typing import Literal, Dict, Any, Annotated, List, Optional, Sequence\n",
    "from IPython.display import Image, display\n",
    "from operator import add\n",
    "from openai import OpenAI\n",
    "\n",
    "import openai\n",
    "\n",
    "import random\n",
    "import ast\n",
    "import inspect\n",
    "import instructor\n",
    "import json\n",
    "\n",
    "from utils.utils import get_tool_descriptions, format_ai_message"
   ]
  },
  {
   "cell_type": "code",
   "execution_count": 8,
   "id": "3c22593e",
   "metadata": {},
   "outputs": [],
   "source": [
    "qdrant_client = QdrantClient(url=\"http://localhost:6333\")"
   ]
  },
  {
   "cell_type": "code",
   "execution_count": 9,
   "id": "6a086bbc",
   "metadata": {},
   "outputs": [],
   "source": [
    "def get_embedding(text, model=\"text-embedding-3-small\"):\n",
    "    response = openai.embeddings.create(\n",
    "        input=[text],\n",
    "        model=model,\n",
    "    )\n",
    "    return response.data[0].embedding"
   ]
  },
  {
   "cell_type": "code",
   "execution_count": 10,
   "id": "4ac2af9f",
   "metadata": {},
   "outputs": [],
   "source": [
    "def retrieve_data(query, qdrant_client, k=5):\n",
    "\n",
    "    query_embedding = get_embedding(query)\n",
    "\n",
    "    results = qdrant_client.query_points(\n",
    "        collection_name=\"Amazon-items-collection-01-hybrid-search\",\n",
    "        prefetch=[\n",
    "            Prefetch(\n",
    "                query=query_embedding,\n",
    "                using=\"text-embedding-3-small\",\n",
    "                limit=20\n",
    "            ),\n",
    "            Prefetch(\n",
    "                query=Document(\n",
    "                    text=query,\n",
    "                    model=\"qdrant/bm25\"\n",
    "                ),\n",
    "                using=\"bm25\",\n",
    "                limit=20\n",
    "            )\n",
    "        ],\n",
    "        query=FusionQuery(fusion=\"rrf\"),\n",
    "        limit=k,\n",
    "    )\n",
    "\n",
    "    retrieved_context_ids = []\n",
    "    retrieved_context = []\n",
    "    retrieved_context_ratings = []\n",
    "    similarity_scores = []\n",
    "\n",
    "    for result in results.points:\n",
    "        retrieved_context_ids.append(result.payload[\"parent_asin\"])\n",
    "        retrieved_context.append(result.payload[\"description\"])\n",
    "        retrieved_context_ratings.append(result.payload[\"average_rating\"])\n",
    "        similarity_scores.append(result.score)\n",
    "\n",
    "    return {\n",
    "        \"retrieved_context_ids\": retrieved_context_ids,\n",
    "        \"retrieved_context\": retrieved_context,\n",
    "        \"retrieved_context_ratings\": retrieved_context_ratings,\n",
    "        \"similarity_scores\": similarity_scores,\n",
    "    }"
   ]
  },
  {
   "cell_type": "code",
   "execution_count": 11,
   "id": "731066bc",
   "metadata": {},
   "outputs": [],
   "source": [
    "query = \"Can I get some tablet?\""
   ]
  },
  {
   "cell_type": "code",
   "execution_count": 12,
   "id": "63ccce6e",
   "metadata": {},
   "outputs": [
    {
     "data": {
      "text/plain": [
       "{'retrieved_context_ids': ['B0B8NVNQKX',\n",
       "  'B09LH466KZ',\n",
       "  'B0BR33XH8D',\n",
       "  'B0BN7WWH63',\n",
       "  'B0C78B1BTB',\n",
       "  'B0BL2CZSHT',\n",
       "  'B0BFGXRMJN',\n",
       "  'B08CGM6Y1J',\n",
       "  'B0C3XYD574',\n",
       "  'B0C772GZRF'],\n",
       " 'retrieved_context': ['COOPERS 7 inch Kids Tablet Android 11 Tablet for Kids, 2GB RAM + 32GB ROM Toddler Tablet PC for Children, IPS Touch Screen, Dual Camera, Dual Speaker, WiFi Computer Tablet, Light Blue ✿【Good Kids tablet】This 7 inch tablet for kids with silm body and lightweight, it is easy to hold by children. Also the special design can protect the tablet well when dropping. ✿【Parental Control】Toddlers Tablet with parent mode can add or block apps. Set screen time limits. This tablet come with iwawa app. kids can get access to fun and educational games and videos. ✿【Powerful Tablets】Equipmented with quad core CPU, Android 11.0 System, 32GB Big Storage, 1024*600 IPS Screen offer a clear view. Runs Kinds of apps and game for kids smoothly. ✿【Long Lasting】Tablet for kids built with large capacity battery. For mixed use up to 6 hours. You can enjoy happy parent-child time with your kids. ✿【Best Gift】This high performance Children tablet is designed specially for kids. Best gift choice for Christmas, New Year, Easter, Birthday and school supplies. Pacakge come with 1* tablet, 1* charger, 1* cable',\n",
       "  'ALZHIJ Portable Tablet Holder Stand - Aluminum Alloy Desktop Stand Adjustable Angle&Height Tablet Stand Holder Creative Tablet Stand Compatible with Various Tablet UP to 12IN Wide (Grey) 😃MADE OF HIGH-QUALITY MATERIALS:The high-quality aluminum alloy material achieves the perfect performance of the tablet holder for bed, making the tablet wear-resistant and scratch-resistant, and has excellent corrosion resistance. The superb anodizing process increases the color and luster of the table stand and makes it richer in texture. 😃EXQUISITE APPEARANCE DESIGN:The personalized smiley face design can not only be a better decoration for this tablet stand for desk, but also provide a long-lasting heat dissipation effect for the tablet during use, making your tablet run more efficiently. The tablet stand for bed is designed with multiple non-slip silicone pads to protect the tablet from damage at all times. 😃180°FREELY ADJUSTABLE ANGLE:The tablet floor stand adopts a stable dual-axis mechanism design, which is firm and not easy to shake. The angle and height can be adjusted arbitrarily, giving you a perfect experience. Lightweight and portable adjustable stand, completely bid farewell to the troubles of traditional stand that are too heavy and make your life more convenient. 😃A WIDE RANGE OF APPLICATIONS:A tablet stand that integrates practical, beautiful, portable and other elements into one. It has a wide range of applications and can be compatible with various tablet up to 15.6 inches wide. The adjustable tablet stand can be used for work, travel, watching drama, and study, giving you a perfect experience. 😃OUR GURANTEE FOR YOU:Everything I do is based on customer satisfaction. If you are not completely satisfied with the purchased product or the product is damaged or broken in transit, please contact us in time. We will solve your problem as quickly as possible!',\n",
       "  'Universal 7 8 Inch Android Tablet Case, Universal Tablet Case Cover for 7 8 Inch Tablet, Nannxiebky Multi-Angle Viewing Stand Case for 7.0-8.5 Inch Tablet, Bird Flower Nannxiebky 8 inch tablet case, Such as compatible with Samsung Galaxy Tab A/S2/E 8.0 inch tablet case, Galaxy Tab A 8.4 inch tablet case, also compatible with LECTRUS AEEZO AOYODKG CWOWDEFU Pritom 8 inch Android tablet case(No back camera opening, not support auto sleep/wake Function). Tablet case for 8 inch tablet, compatible with Drangon Touch Y80 tablet case / MatrixPad S8 tablet case / Winnovo T8 tablet case / TECLAST P80 P80H P80X MIX 8 tablet case / Onn 8 inch tablet case.(No back camera opening, not support auto sleep/wake Function). Nannxiebky 7 inch tablet case, Such as samsung galaxy Tab 7.0 inch tablet case, walmart Onn 7 inch tablet case, also compatible with MatrixPad Dragon Touch Contixo Pritom qunyiCO AEEZO TOPELOTEK Haehne HAOQIN Winnovo ZONKO 7 inch tablet case. (No back camera opening, not support auto sleep/wake Function) Interior card slots and document pocket are designed for carrying your credit card / business cards/ some notes or bills while on the go. Multi-Angle viewing stand function for watching, you could attach the magnet closure to the back and make it keep away from screen.',\n",
       "  \"All-New Fire HD 8 Tablet Case, Fire Tablet 8 &8 Plus Case for Kids (Compatible 2022 & 2020 Release) - Auorld Kid-Proof Light-Weight Case for Fire HD 8 inch Tablet, Blue Tablet 8 Kids Case design specifically for all-new 8 inch Tablet and 8 Plus Tablet(12th/10th Generation, 2022/2020 Release), NOT fit for other models. Made with dense heavy duty EVA foam, material can withstand considerable wear and tear and provide extreme shock protection. Super lightweight and durable hazard free safe material perfect for kids and grownups alike PRECISE OPENINGS-Cutouts for easy access to all-new 8 inch tablet & 8 plus tablet buttons, ports, speakers and rear-camera. When installing, remove the black frame first.Raised screen bezel edges for extra protection when fall Special rear pattern with raised supports for grip and drop protection in a honey comb design. Anti-slip side grip feature with ergonomic grip supports What You Get: 1x tablet case,friendly customer service. Accessory: the tablet don't be included, NO screen protector included\",\n",
       "  \"Blackview Tab 5 Tablets, 2023 Latest Tablet Android 12, Quad-Core 5GB(3+2) RAM 64GB ROM up to 1TB TF, 8 inch Tablet HD+ IPS 1280*800, Android Tablet 5580mAh Big Battery, Dual BOX Speakers WiFi, Blue 【1280*800 IPS 8 Inch Tablet】The Blackview Tab 5 uses an HD+ screen, which is better and more eye friendly than other tablets that use 1024 x 600 resolution display. Enjoy your favorite apps like Netflix, Facebook, Hulu, Instagram, TikTok, and more through Google Play. It can gives you an ideal vision for productivity tasks, reading and entertainment. 【Enhanced Performance Tablet】📢📢📢Blackview has exclusive technology that can 🔸expand 3GB RAM to 5GB (2GB virtual memory)🔸on this android tablet, greatly improving the performance and speed, and no longer stuttering when running several apps at once. It also has an TF card slot that can be plugged into 1TB of expanded memory, with the 64GB ROM, this tablet can store lots of music, pictures, videos. 【Latest Android 12 tablet+DOKE O_P 3.0 GO】Android 12 has enhanced security and privacy features, as well as optimized the notification bar settings and Hotkeys for greater security and convenience. DOKE OS_P 3.0 GO is designed for blackview tablets. It makes the interface more beautiful based on Android 12, adding split screen, screen shot, screen recoard,dark theme, etc. 【5580mAh All day Battery Life Google Tablet】Extend your joy with extended battery life. Blackview Tab 5 never runs out of battery to enjoy reading, browsing the web, watching videos, and listening to music at home and on-the-go. We also added a power-saving mode, so it can lasts longer than other tablets which have 3500-5000mah batteries. 【Great fit for Family】Blackview Tab 5 tablet has parental controls mode, parents can create child profiles to limit screen time, set educational goals, and manage content with easy-to-use parental controls. It's Google GMS Certified, so it's also a great gift for your parents, Keep in touch with them through this android tablet. Father‘s day gift 【2 years Warranty】This android 8 inch tablet have 2 years guarantee policy and 30 days free return. In the unlikely event that the product is defective, please contact us through your Amazon purchase history. We will do our best to satisfy our customers.\",\n",
       "  'All-New 10and 10 Plus 2021 Tablet Case for Kids, Ubearkk Adult & Kids Friendly Light Weight Shock Proof Kid-Proof Back Cover Compatible 101h Generation 2021 Model Compatibility- Designed for All-New ＨＤ 10 & ＨＤ 10 Plus Tablet & ＨＤ 10 Kids Pro Tablet Latest model(Only compatible with 11th Generation, 2021 Release). NOT Fit for other generations. Kids-proof Case-Made with dense heavy duty EVA foam material can withstand considerable wear and tear and provide extreme shock protection. Super light weight and durable hazard free safe material perfect for kids and grownups alike. Built-in Kickstand - Designed with a foldable kick-stand on the back of the case, allows you to set up multiple angles and gives you the hands-free convenience when watching videos and movies. Precise cutouts- Full access to all ports, buttons, and cameras, speakers and rear-camera without removing the tablet case. What You Get- Tablet case x 1.(The tablet is not included, and NO screen protector included). If you encounter any problems, please feel free to contact us.',\n",
       "  \"JSAUX Tablet Pillow Stand, Tablet Stand Holder Dock for Lap, Bed and Desk Compatible with iPad Pro 11 10.5 9.7 10.2 Air Mini, Kindle, Tablets, Phones, E-Reader, Books and More 4-11'' devices Navy Blue 【Tablet Pillow Stand】JSAUX tablet pillow stand is perfect for Reading, watching videos&photos or typing while lying in bed, or sitting on sofa or rug. It holds your device well and make your life wonderful. 【Compatibility】Compatible with iPad mini 2 3 4 5 6, iPad 2017, 2018, 2019, 2020, 2021, iPad Pro 2016,2017, iPad Pro 11-inch, iPad Air 2013, 2014, 2019, 2020, 2022 (1st - 5th generation), Samsung Galaxy Tab S6 Lite, S7, S8, A7, A7 Lite, A8, A8.4, e-readers, Kindle, Kindle Paperwhite, Kindle Oasis, Kindle Scribe, Fire, Fire Plus, Fire Kids, Fire Kids Pro, smartphones and more 4-11 inches devices. 【Multi-angle Viewing】The soft and skin-friendly iPad holder has multi angle adjustments. With the combination of hook and loop strips & deeper grooves, you can freely adjust to a comfortable viewing angle. 【Considerate Details】JSAUX tablet stand holder dock provides more considerate details design. The mesh net pocket can be used to put the charging cable and charger. The pencil holder for your pencil fixing. Removable and washable soft case with bottom invisible zipper. 【What You Get】We provide this tablet holder with an 18-Month worry-free period and 24/7 friendly client consultation, if you have any questions, we will resolve your issue within 24 hours.\",\n",
       "  '8in Tablet Case for Kids (12/10th Generation, 2022/2020 Release), OQDDQO Light Weight Anti Slip Shockproof Kids Friendly Case for 8 inch Tablet (Black) New Design: Specially designed for All-New tablet 8 case (8in tablet 12/10th Generation, 2022/2020 Release), Compatible with 8 Plus case. Note: Not applicable to other tablets Super protection: With a protective layer of 1.5mm thickness, it is designed for double airbags with four corners for safer and more effective protection. Comfortable touch: side non-slip texture, 3D texture on the back, high-quality EVA material, very comfortable hand. Precise incision: All Ports, buttons and speakers have precise cut-outs for Easy access. we gift to you extra two wrist ropes to prevent the tablet from accidentally falling causing damage. Warranty: If you have any questions or dissatisfaction with our products or services,please feel free to contact us we will be happy to help you.',\n",
       "  'ROWT Tablet for Kids 10 inch Kids Tablet 2GB RAM 32GB ROM Android 11 6000mAh Wi-Fi, Bluetooth, Kid-Proof Case(Blue) 【Kids\\' Safety & Parental Controls】Looking for a safe tablet that\\'s easy for your kids to use? This 10-inch tablet for kids is GMS-certified, has password protection, a content filter, and a one-button lock screen, making it easier for parents to keep an eye on their kids activities and learning. 【Creative Educational Content】Our kids tablet provides access to a range of age-appropriate creative kids content such as drawing, educational games, eBooks, learning videos, math tools, and much more! Learning through play is best for kids to understand the world. 【Powerful Configuration & Full Access to Google】This Android 11 kids tablet has an HD 1280x800 IPS touchscreen, 1.6 GHz Quad-Core processor, 2GB RAM & 32GB ROM storage, dual cameras, and a large battery with 6000mAh capacity. You have full access to Google Play to download the latest apps such as Gmail, Disney+, Youtube, and many more. 【10.1\" Large Screen + Eye Protection】This kids tablet is designed with a 10.1-inch large HD screen. The screen is designed to produce less glare and provide more clarity and brightness. It helps protect your eyes by reducing damage from blue light, letting your child be safer and more comfortable while using the tablet. 【Durable Kid-proof Case】Designed to be easy to use, this 10-inch large yet portable kids tablet includes a protective case with a built-in stand to protect the kids tablet from scratches and bumps. This kids tablet is a great gift for birthdays, Christmas, holidays, and more.',\n",
       "  \"Paxodo Kids Tablet, 10 inch, Android 10 Tablet PC, 6000mAh, 32GB ROM, Quad-Core, HD Dual Camera, WiFi, Parental Control, Kid-Proof Case (Blue) 🛫【High Performance Kids Tablet】Paxodo Kids Tablet uses Android 10 operating system, and has a built-in 1.6GHz high-performance quad-core CPU, 2G RAM, 32G ROM, Faster than other tablets. 🛫【Rich Application Resources】Full-featured tablet. With GMS certification, Download apps from Google Play Store, Gives you the best resources for learning and entertainment. 🛫【Parental Control Mode】Has a great parental control mode that allows for time limits, educational goals, filtering of age appropriate content ……,To create a safe online environment for kids. 🛫【Eye protection HD screen】Features a premium IPS 1280x800 HD screen. Designed with low blue light technology. Enter reading mode with one click, helping be safer and more comfortable. 🛫【Battery Capacity & Kid-proof Case】Has a large built-in 6000 mAh battery, giving up to 5 hours of daily use with a single charge. It's convenient for long flights, camping, and road trips.\"],\n",
       " 'retrieved_context_ratings': [3.6,\n",
       "  4.5,\n",
       "  4.6,\n",
       "  4.5,\n",
       "  4.2,\n",
       "  4.7,\n",
       "  4.4,\n",
       "  4.6,\n",
       "  4.4,\n",
       "  4.3],\n",
       " 'similarity_scores': [0.625,\n",
       "  0.5833333,\n",
       "  0.42424244,\n",
       "  0.33333334,\n",
       "  0.32142857,\n",
       "  0.3,\n",
       "  0.25555557,\n",
       "  0.25,\n",
       "  0.22916667,\n",
       "  0.1904762]}"
      ]
     },
     "execution_count": 12,
     "metadata": {},
     "output_type": "execute_result"
    }
   ],
   "source": [
    "answer = retrieve_data(query, qdrant_client, k=10)\n",
    "answer"
   ]
  },
  {
   "cell_type": "markdown",
   "id": "7ea05ca6",
   "metadata": {},
   "source": [
    "### Multi-Intention Question"
   ]
  },
  {
   "cell_type": "code",
   "execution_count": 13,
   "id": "fed03ca0",
   "metadata": {},
   "outputs": [],
   "source": [
    "query = \"Can I get a tablet for my kid, a watch for me and a laptop for my wife?\""
   ]
  },
  {
   "cell_type": "code",
   "execution_count": 14,
   "id": "53ae1a1a",
   "metadata": {},
   "outputs": [],
   "source": [
    "answer = retrieve_data(query, qdrant_client, k=10)"
   ]
  },
  {
   "cell_type": "code",
   "execution_count": 15,
   "id": "31d16a4e",
   "metadata": {},
   "outputs": [
    {
     "data": {
      "text/plain": [
       "{'retrieved_context_ids': ['B0BRXZDBXZ',\n",
       "  'B0BL2CZSHT',\n",
       "  'B0C3XYD574',\n",
       "  'B0B8NVNQKX',\n",
       "  'B0CFFGT7RM',\n",
       "  'B0C142QS8X',\n",
       "  'B0BFGXRMJN',\n",
       "  'B0C772GZRF',\n",
       "  'B08CGM6Y1J',\n",
       "  'B0BC78N85F'],\n",
       " 'retrieved_context': [\"Kids Tablet, 7 inch Tablet for Kids 3GB RAM 32GB ROM, Android 11 Toddler Tablet with WiFi, Bluetooth, GMS, Parental Control, Shockproof Case, Google Play, YouTube, Netflix 【iWawa APP with parental control】This kids tablet has passed the GMS certification and is pre-installed with the iwawa app, specially designed for children. It has password control, remote video control, one-button lock screen and Learning, art, smart games. New-upgrade kids online school, fun interaction, video playback 【Android 11.0 & 128 GB Expand】Android 11.0 operating system, 3GB RAM 32GB ROM, support WiFi, Bluetooth, GPS, etc. The HD 1024*600IPS display can offer a perfect experience, You can expand the storage to 128 GB of SD cards for storing photos, music and videos. The upgraded battery can last more than 6 hours, suitable for long-distance flights or road trips, Appropriate Age Grade Over 3 years old kids 【Kids Tablet with Case】The sturdy tablet case can protects your kids tablet. A colorful handle and a adjustable stand on the back of case allows toddlers to go hands-free while learning, watching and playing games, don't need to hold 【Ideal gift for Kids】You can download different apps from the Google Play store, such as ABCMouse, HULU, YouTube Kids, Netflix, Zoom. Kids can explore the new-world, search for new-knowledge. The toddler tablet is an ideal gift for birthday, Christmas, holiday season for kids. Help your child develop in an all-around way 【5-year Warranty】Our kids tablet offers a 5-year warranty and Lifetime customer service, we will answer your any questions within 24 hours. Package includes：1 x Tablet PC, 1 x Protective Silicone Case, 1 x screen protector , 1 x OTG cable, 1 x Data Cable, 1 x User Manual\",\n",
       "  'All-New 10and 10 Plus 2021 Tablet Case for Kids, Ubearkk Adult & Kids Friendly Light Weight Shock Proof Kid-Proof Back Cover Compatible 101h Generation 2021 Model Compatibility- Designed for All-New ＨＤ 10 & ＨＤ 10 Plus Tablet & ＨＤ 10 Kids Pro Tablet Latest model(Only compatible with 11th Generation, 2021 Release). NOT Fit for other generations. Kids-proof Case-Made with dense heavy duty EVA foam material can withstand considerable wear and tear and provide extreme shock protection. Super light weight and durable hazard free safe material perfect for kids and grownups alike. Built-in Kickstand - Designed with a foldable kick-stand on the back of the case, allows you to set up multiple angles and gives you the hands-free convenience when watching videos and movies. Precise cutouts- Full access to all ports, buttons, and cameras, speakers and rear-camera without removing the tablet case. What You Get- Tablet case x 1.(The tablet is not included, and NO screen protector included). If you encounter any problems, please feel free to contact us.',\n",
       "  'ROWT Tablet for Kids 10 inch Kids Tablet 2GB RAM 32GB ROM Android 11 6000mAh Wi-Fi, Bluetooth, Kid-Proof Case(Blue) 【Kids\\' Safety & Parental Controls】Looking for a safe tablet that\\'s easy for your kids to use? This 10-inch tablet for kids is GMS-certified, has password protection, a content filter, and a one-button lock screen, making it easier for parents to keep an eye on their kids activities and learning. 【Creative Educational Content】Our kids tablet provides access to a range of age-appropriate creative kids content such as drawing, educational games, eBooks, learning videos, math tools, and much more! Learning through play is best for kids to understand the world. 【Powerful Configuration & Full Access to Google】This Android 11 kids tablet has an HD 1280x800 IPS touchscreen, 1.6 GHz Quad-Core processor, 2GB RAM & 32GB ROM storage, dual cameras, and a large battery with 6000mAh capacity. You have full access to Google Play to download the latest apps such as Gmail, Disney+, Youtube, and many more. 【10.1\" Large Screen + Eye Protection】This kids tablet is designed with a 10.1-inch large HD screen. The screen is designed to produce less glare and provide more clarity and brightness. It helps protect your eyes by reducing damage from blue light, letting your child be safer and more comfortable while using the tablet. 【Durable Kid-proof Case】Designed to be easy to use, this 10-inch large yet portable kids tablet includes a protective case with a built-in stand to protect the kids tablet from scratches and bumps. This kids tablet is a great gift for birthdays, Christmas, holidays, and more.',\n",
       "  'COOPERS 7 inch Kids Tablet Android 11 Tablet for Kids, 2GB RAM + 32GB ROM Toddler Tablet PC for Children, IPS Touch Screen, Dual Camera, Dual Speaker, WiFi Computer Tablet, Light Blue ✿【Good Kids tablet】This 7 inch tablet for kids with silm body and lightweight, it is easy to hold by children. Also the special design can protect the tablet well when dropping. ✿【Parental Control】Toddlers Tablet with parent mode can add or block apps. Set screen time limits. This tablet come with iwawa app. kids can get access to fun and educational games and videos. ✿【Powerful Tablets】Equipmented with quad core CPU, Android 11.0 System, 32GB Big Storage, 1024*600 IPS Screen offer a clear view. Runs Kinds of apps and game for kids smoothly. ✿【Long Lasting】Tablet for kids built with large capacity battery. For mixed use up to 6 hours. You can enjoy happy parent-child time with your kids. ✿【Best Gift】This high performance Children tablet is designed specially for kids. Best gift choice for Christmas, New Year, Easter, Birthday and school supplies. Pacakge come with 1* tablet, 1* charger, 1* cable',\n",
       "  'Gifts for Men Who Have Everything, Gifts for Him, Smart Watch for Men, Fitness Tracker with Heart Rate Blood Pressure Oxygen Monitor iPhone Android Compatible Relojes Inteligentes para, 1.4\\'\\' Black 【Nice Gifts for Men】This fitness tracking smart watch for men is not only makes it easier to receive / make calls, but it is also a must-have for tracking health and monitoring your statue when doing exercise. Stylish appearance, high-grade packaging, very suitable as a healthy gift for mens from wife on sepical days. Anniversary brithday gifts for men who have everything, unique gifts for men, retire gifts for dad, basket gifts for men, boyfriends. 【All-Day Heart Rate Monitor】Built-in high-precision PPG sensor to track your heart rate 24 hours a day. This heart rate monitor watch can also save your resting heart rate data to help monitor long-term heart rate changes. The blood oxygen is measured using reflective-light based sensor on this blood pressure watches for men women. When you experience shortage of breath, weakness or dizziness. This heart rate monitor watch can only help you train your breath to calm you down. gifts for men him 【Intelligent Fitness Watch】This Blood Pressure Monitor Watch has many features you need for a better experience to gives you new ways to train and advanced. Supports 20 professional fitness modes including yoga and HIT, as well as 100 extended fitness modes , it accurately monitors and analyzes over multiple data points such as heart rate, steps, and calories burned, Black round men fitness watch for iphone android compatible, smart watch fitness tracker with heart rate blood pressure 【Smart Notification】You can get call, SMS text and SNS messages including Facebook,Twitter, WhatsApp, Linkedin, Messenger and more when this womens mens smart watches are synced to the smart phone. The smart watches for women receives messages, calls, and app notifications by getting a vibration alert on the watches device, also can answer/make call or answer text with this relojes inteligentes para mujer. gifts for him, gifts for men who have everything, mens gifts 【Your Watch, Your Style】1.4\"touch screen covered with a sturdy and anti-scratch frame, WalkerFit A2 Pro black round Blood Pressure Monitor Watch offers stylish and elegant design and 5 dials readily available to choose from, over 200+ Multiple trendsetting dial within the app. Smart watch for men women to match your mood and outfit of every different day. Even create and customize your smartwatches own faces from your phone gallery. Unique gifts for men,gifts for him who have everything 【Healthy Assistant】Equipped with a high-precision sensor, this heart rate monitor watch with monitor to tracks your heart rate 24/7 and measures blood oxygen levels using a wrist-based sensor. This heart rate monitor watch also monitors your calories burned during exercise, making this fitness tracker watch an essential tool for keep fit. It makes a great gift for your loved ones. This fwomens fitness watch Ideal for high-intensity workouts and sports such as marathons and gym workouts. 【Good Travel Companion】Effortlessly control your smartphone camera with just a wave of your hand to make photos by this heart rate monitor watch, perfect for capturing memories with family on a vacation. This smart watch fitness tracker for men women also includes weather forecasting for 7 days future to help you plan your travel route each day ahead with ease.good travel gifts for men, gifts for him, gifts for men who have everything. mens gifts 【Always-on Battery Life】Blood Pressure Monitor Watch With a battery life of up to a week and standby time of over 20 days, this fitness smartwatch with heart rate monitoring is designed to keep up with your active life. Its fast-charging feature and magnetic enhanced charging cable make powering up effortless. Smart watch fitness tracker for men women with heart rate monitor. Gifts for men who have everything, gifts for him. Anniversary gifts for men, husband gifts from wife, tech gfits for men 【Waterproof Fitness Watches】2023 Upgrade Blood Pressure Monitor Watch With IP67 waterproof, this fitness tracker watch can meet the waterproof requirements of your daily activities such as washing hands or working out in the rain with this heart rate monitor fitness tracker watch. Whether it\\'s sweat or a small splash, just handle it with ease. round black smart watches for women, reloj de mujer inteligente, relojes inteligentes para mujer.Gifts for men, gifts for him, anniversary gifts for him Blood Pressure Monitor Watch, Fitness Watch, Heart Rate Monitor Watch,Smart Watch for Men Women,2023 Upgrade. Blood Pressure Monitor Watch, Fitness Watch, Heart Rate Monitor Watch,Smart Watch for Men Women, WalkerFit 2023 Upgrade Waterproof SmartWatches Fitness Tracker with Blood Pressure iPhone Android Compatible, 1.4 Inch Round black.',\n",
       "  \"TUNEAKE Kids Headphones, Over Ear Kids Headset Stereo, Volume Limited 94dB, Foldable Adjustable Headphones for Kids, 3.5mm Jack Kid Headphones for Boys Girls Toddler School Laptop Travel Tablet, Pink 🍀LISTENING VOLUME🍀: Designed with 94dB volume-limiting technology, kids headphones offer adequate hearing protection that your child cannot listen to music or watch videos at dangerously high levels. Kids headphones for school NOTE: NO microphone, but you can still speak into the device's mic that you are plugged into and will hear you. 🍀KID-SIZED FOR COMFORT🍀: The padded headband and soft ear cups on the kids headphones boys provides a comfy fit for kids. The adjustable headband makes it well-suited to your child. With cushy, perforated mesh on the cushioned cups, your child's head will not feel hot. 🍀FOR EASY STORAGE AND PORTABILITY🍀: Children's headphones feature a folding design that can fold up to help reduce their size, easy to store in your child's backpack. The earmuffs can be rotated by 90°for easy hanging on the neck. 🍀WIDE COMPATIBILITY🍀: A 3.5mm aux port including a 120cm cable gives you the option to connect directly to devices. Compatible with all Smartphones, Chromebooks, iPads, Tablets, Computers, Laptops, and all 3.5mm audio jack devices. 🍀FUN FOR KIDS🍀: Kids headphones wired has easy controls that can allow children to use them without any difficulty. Whether your little one needs school headphones for online learning, or just to jam out to their own tunes, finding the kid headphones for them is worthwhile. Lifetime Support, Easy to Reach Customer Service.\",\n",
       "  \"JSAUX Tablet Pillow Stand, Tablet Stand Holder Dock for Lap, Bed and Desk Compatible with iPad Pro 11 10.5 9.7 10.2 Air Mini, Kindle, Tablets, Phones, E-Reader, Books and More 4-11'' devices Navy Blue 【Tablet Pillow Stand】JSAUX tablet pillow stand is perfect for Reading, watching videos&photos or typing while lying in bed, or sitting on sofa or rug. It holds your device well and make your life wonderful. 【Compatibility】Compatible with iPad mini 2 3 4 5 6, iPad 2017, 2018, 2019, 2020, 2021, iPad Pro 2016,2017, iPad Pro 11-inch, iPad Air 2013, 2014, 2019, 2020, 2022 (1st - 5th generation), Samsung Galaxy Tab S6 Lite, S7, S8, A7, A7 Lite, A8, A8.4, e-readers, Kindle, Kindle Paperwhite, Kindle Oasis, Kindle Scribe, Fire, Fire Plus, Fire Kids, Fire Kids Pro, smartphones and more 4-11 inches devices. 【Multi-angle Viewing】The soft and skin-friendly iPad holder has multi angle adjustments. With the combination of hook and loop strips & deeper grooves, you can freely adjust to a comfortable viewing angle. 【Considerate Details】JSAUX tablet stand holder dock provides more considerate details design. The mesh net pocket can be used to put the charging cable and charger. The pencil holder for your pencil fixing. Removable and washable soft case with bottom invisible zipper. 【What You Get】We provide this tablet holder with an 18-Month worry-free period and 24/7 friendly client consultation, if you have any questions, we will resolve your issue within 24 hours.\",\n",
       "  \"Paxodo Kids Tablet, 10 inch, Android 10 Tablet PC, 6000mAh, 32GB ROM, Quad-Core, HD Dual Camera, WiFi, Parental Control, Kid-Proof Case (Blue) 🛫【High Performance Kids Tablet】Paxodo Kids Tablet uses Android 10 operating system, and has a built-in 1.6GHz high-performance quad-core CPU, 2G RAM, 32G ROM, Faster than other tablets. 🛫【Rich Application Resources】Full-featured tablet. With GMS certification, Download apps from Google Play Store, Gives you the best resources for learning and entertainment. 🛫【Parental Control Mode】Has a great parental control mode that allows for time limits, educational goals, filtering of age appropriate content ……,To create a safe online environment for kids. 🛫【Eye protection HD screen】Features a premium IPS 1280x800 HD screen. Designed with low blue light technology. Enter reading mode with one click, helping be safer and more comfortable. 🛫【Battery Capacity & Kid-proof Case】Has a large built-in 6000 mAh battery, giving up to 5 hours of daily use with a single charge. It's convenient for long flights, camping, and road trips.\",\n",
       "  '8in Tablet Case for Kids (12/10th Generation, 2022/2020 Release), OQDDQO Light Weight Anti Slip Shockproof Kids Friendly Case for 8 inch Tablet (Black) New Design: Specially designed for All-New tablet 8 case (8in tablet 12/10th Generation, 2022/2020 Release), Compatible with 8 Plus case. Note: Not applicable to other tablets Super protection: With a protective layer of 1.5mm thickness, it is designed for double airbags with four corners for safer and more effective protection. Comfortable touch: side non-slip texture, 3D texture on the back, high-quality EVA material, very comfortable hand. Precise incision: All Ports, buttons and speakers have precise cut-outs for Easy access. we gift to you extra two wrist ropes to prevent the tablet from accidentally falling causing damage. Warranty: If you have any questions or dissatisfaction with our products or services,please feel free to contact us we will be happy to help you.',\n",
       "  \"JTEMAN Wireless Bluetooth Speaker Tablet Stand, Adjustable with Bluetooth Speakers,Gifts for Women Men,Kitchen Gadget for Men,Compatible with Phones and Tablet (4.0-12.9'') - Graphite 【Novel designs 3 in 1 Multi-function Tablet Stand】 The Tablet Stand for desk is not a simple Tablet Stand,it is with Bluetooth speakers and a phone charging station.When using iPad for study,watching movie or listening music ,the Tablet Stand can be used both as a stand and as a Bluetooth speakers.The charging station of stand can charge your iPad and other devices,such as phone,kindle and e-readers when the Tablet Stand connected the power,it will be a cool gadgets for you. 【Higher Quality Louder Volume】Jteman Bluetooth Speakers with Tablet Stand,Built-in Dual Speakers let the Volume more louder but not noisy,giving you impressive stereo sound when you enjoying music and movie.Tablet Stand built-in microphone design for hands-free calling,can take a clear sound from the speake. 【Sturdy Anti-Slip Design】Anti-slip pad under the tablet stand protects your tablet and it is more stable, you can tap and slide your ipad screen as much as you want and draw.The stand can be extended up to 7.6 inches, suitable for large size tablets, even if you place the tablet in a vertical orientation, it does not wobble and is very stable.The unique hollow design of the stand hook will not block the sound, so that the sound of the device can be transmitted unimpeded. 【Foldable and Adjustable Angle】Adjustable Tablet Stand support vertical and horizontal viewing,It brings convenience to our daily life. It can freely adjust the comfortable viewing angle when reading, drawing, watching movies,playing game and video calls.Moreover,this kitchen gadgets can release your hands to watching cookery show while cooking.A comfortable viewing angle will relax your shoulders and neck, even if you use the tablet for a long time, let you not feeling tired. 【Universal Compatibility】Tablet stand fit for 4 to 13inch phones/tablets/E-reader and the thickness of device with case within 0.55in.Compatible with iPad Pro/iPad Air/iPad mini/Smartphone/E-readers.Tablet stand with Bluetooth speakers is the best birthday gifts for your friends,lover,parents and everybody.For the elderly people it will make it easier for them to listen news,music and take video calls in louder voulme,is also good for youth to watch movies and take online course.\"],\n",
       " 'retrieved_context_ratings': [3.7,\n",
       "  4.7,\n",
       "  4.4,\n",
       "  3.6,\n",
       "  4.3,\n",
       "  4.5,\n",
       "  4.4,\n",
       "  4.3,\n",
       "  4.6,\n",
       "  4.5],\n",
       " 'similarity_scores': [0.6666667,\n",
       "  0.5833333,\n",
       "  0.4,\n",
       "  0.39285713,\n",
       "  0.375,\n",
       "  0.33333334,\n",
       "  0.2625,\n",
       "  0.2625,\n",
       "  0.1904762,\n",
       "  0.16666667]}"
      ]
     },
     "execution_count": 15,
     "metadata": {},
     "output_type": "execute_result"
    }
   ],
   "source": [
    "answer"
   ]
  },
  {
   "cell_type": "code",
   "execution_count": 16,
   "id": "fb0e6bdf",
   "metadata": {},
   "outputs": [],
   "source": [
    "class QueryExpandResponse(BaseModel):\n",
    "   statements: List[str]"
   ]
  },
  {
   "cell_type": "code",
   "execution_count": 17,
   "id": "4e54bbbc",
   "metadata": {},
   "outputs": [],
   "source": [
    "def query_expand_node(query) -> dict:\n",
    "\n",
    "   prompt_template =  \"\"\"You are part of a shopping assistant that can answer questions about products in stock.\n",
    "\n",
    "Instructions:\n",
    "- You will be given a question and you need to expand it into a list statements that can be used in contextual search to retrieve relevant products.\n",
    "- The statements should not overlap in context.\n",
    "\n",
    "<Question>\n",
    "{{ query }}\n",
    "</Question>\n",
    "\"\"\"\n",
    "\n",
    "   template = Template(prompt_template)\n",
    "   \n",
    "   prompt = template.render(\n",
    "      query=query\n",
    "   )\n",
    "\n",
    "   client = instructor.from_openai(OpenAI())\n",
    "\n",
    "   response, raw_response = client.chat.completions.create_with_completion(\n",
    "        model=\"gpt-4.1-mini\",\n",
    "        response_model=QueryExpandResponse,\n",
    "        messages=[{\"role\": \"system\", \"content\": prompt}],\n",
    "        temperature=0.5,\n",
    "   )\n",
    "\n",
    "   return {\n",
    "      \"queries\": response.statements\n",
    "   }\n"
   ]
  },
  {
   "cell_type": "code",
   "execution_count": 18,
   "id": "a6c860f0",
   "metadata": {},
   "outputs": [],
   "source": [
    "answer = query_expand_node(query)"
   ]
  },
  {
   "cell_type": "code",
   "execution_count": 19,
   "id": "ebd04f27",
   "metadata": {},
   "outputs": [
    {
     "data": {
      "text/plain": [
       "{'queries': ['tablet for kids', 'smartwatch for adults', 'laptop for women']}"
      ]
     },
     "execution_count": 19,
     "metadata": {},
     "output_type": "execute_result"
    }
   ],
   "source": [
    "answer"
   ]
  },
  {
   "cell_type": "markdown",
   "id": "253ee4f6",
   "metadata": {},
   "source": [
    "## LangGraph"
   ]
  },
  {
   "cell_type": "markdown",
   "id": "7786c2d8",
   "metadata": {},
   "source": [
    "### Query Expansion (Sequential Execution)"
   ]
  },
  {
   "cell_type": "code",
   "execution_count": 21,
   "id": "5c26163a",
   "metadata": {},
   "outputs": [],
   "source": [
    "class State(BaseModel):\n",
    "    expanded_query: List[str] = []\n",
    "    retrieved_context: Annotated[List[str], add] = []\n",
    "    initial_query: str = \"\"\n",
    "    answer: str = \"\""
   ]
  },
  {
   "cell_type": "markdown",
   "id": "f91589c4",
   "metadata": {},
   "source": [
    "#### Query Expansion / Rewriting Node"
   ]
  },
  {
   "cell_type": "code",
   "execution_count": 22,
   "id": "6a2b7a94",
   "metadata": {},
   "outputs": [],
   "source": [
    "class QueryExpandResponse(BaseModel):\n",
    "    expanded_query: List[str]"
   ]
  },
  {
   "cell_type": "code",
   "execution_count": 23,
   "id": "9e86c190",
   "metadata": {},
   "outputs": [],
   "source": [
    "@traceable(\n",
    "    name=\"agent_node\",\n",
    "    run_type=\"llm\",\n",
    "    metadata={\"ls_provider\": \"openai\", \"ls_model_name\": \"gpt-4.1-mini\"}\n",
    ")\n",
    "def query_expand_node(state: State):\n",
    "\n",
    "   prompt_template =  \"\"\"You are part of a shopping assistant that can answer questions about products in stock.\n",
    "\n",
    "Instructions:\n",
    "- You will be given a question and you need to expand it into a list statements that can be used in contextual search to retrieve relevant products.\n",
    "- The statements should not overlap in context. Single item should not be expanded into multiple statements unless it is specifically mentioned in several contexts.\n",
    "\n",
    "<Question>\n",
    "{{ query }}\n",
    "</Question>\n",
    "\"\"\"\n",
    "\n",
    "   template = Template(prompt_template)\n",
    "   \n",
    "   prompt = template.render(\n",
    "      query=state.initial_query\n",
    "   )\n",
    "\n",
    "   client = instructor.from_openai(OpenAI())\n",
    "\n",
    "   response, raw_response = client.chat.completions.create_with_completion(\n",
    "        model=\"gpt-4.1-mini\",\n",
    "        response_model=QueryExpandResponse,\n",
    "        messages=[{\"role\": \"system\", \"content\": prompt}],\n",
    "        temperature=0.5,\n",
    "   )\n",
    "\n",
    "   return {\n",
    "      \"expanded_query\": response.expanded_query\n",
    "      }"
   ]
  },
  {
   "cell_type": "markdown",
   "id": "62feda7e",
   "metadata": {},
   "source": [
    "#### Retriever Node"
   ]
  },
  {
   "cell_type": "code",
   "execution_count": 24,
   "id": "9cfcbc99",
   "metadata": {},
   "outputs": [],
   "source": [
    "@traceable(\n",
    "    name=\"embed_query\",\n",
    "    run_type=\"embedding\",\n",
    "    metadata={\"ls_provider\": \"openai\", \"ls_model_name\": \"text-embedding-3-small\"}\n",
    ")\n",
    "def get_embedding(text, model=\"text-embedding-3-small\"):\n",
    "    response = openai.embeddings.create(\n",
    "        input=[text],\n",
    "        model=model,\n",
    "    )\n",
    "\n",
    "    return response.data[0].embedding\n",
    "\n",
    "\n",
    "@traceable(\n",
    "    name=\"retrieve_top_n\",\n",
    "    run_type=\"retriever\"\n",
    ")\n",
    "def retrieve(query, k=10) -> dict:\n",
    "\n",
    "    qdrant_client = QdrantClient(url=\"http://localhost:6333\")\n",
    "\n",
    "    query_embedding = get_embedding(query)\n",
    "\n",
    "    results = qdrant_client.query_points(\n",
    "        collection_name=\"Amazon-items-collection-01-hybrid-search\",\n",
    "        prefetch=[\n",
    "            Prefetch(\n",
    "                query=query_embedding,\n",
    "                using=\"text-embedding-3-small\",\n",
    "                limit=20\n",
    "            ),\n",
    "            Prefetch(\n",
    "                query=Document(\n",
    "                    text=query,\n",
    "                    model=\"qdrant/bm25\"\n",
    "                ),\n",
    "                using=\"bm25\",\n",
    "                limit=20\n",
    "            )\n",
    "        ],\n",
    "        query=FusionQuery(fusion=\"rrf\"),\n",
    "        limit=k,\n",
    "    )\n",
    "\n",
    "    retrieved_context = []\n",
    "    retrieved_context_ids = [] \n",
    "    retrieved_context_ratings = []\n",
    "\n",
    "    for result in results.points:\n",
    "        retrieved_context_ids.append(result.payload[\"parent_asin\"])\n",
    "        retrieved_context.append(result.payload[\"description\"])\n",
    "        retrieved_context_ratings.append(result.payload[\"average_rating\"])\n",
    "\n",
    "    formatted_context = \"\"\n",
    "\n",
    "    for id, chunk, rating in zip(retrieved_context_ids, retrieved_context, retrieved_context_ratings):\n",
    "        formatted_context += f\"- ID: {id}, rating: {rating}, description: {chunk}\\n\"\n",
    "\n",
    "    return formatted_context\n",
    "\n",
    "\n",
    "@traceable(\n",
    "    name=\"retriever_node\",\n",
    "    run_type=\"retriever\"\n",
    ")\n",
    "def retrieve_node(state: State) -> dict:\n",
    "\n",
    "    retrieved_context = []\n",
    "\n",
    "    for query in state.expanded_query:\n",
    "        retrieved_context.append(retrieve(query))\n",
    "\n",
    "    return {\n",
    "        \"retrieved_context\": retrieved_context\n",
    "    }"
   ]
  },
  {
   "cell_type": "markdown",
   "id": "d6e02e57",
   "metadata": {},
   "source": [
    "#### Aggregator Node"
   ]
  },
  {
   "cell_type": "code",
   "execution_count": 25,
   "id": "d1cc6de9",
   "metadata": {},
   "outputs": [],
   "source": [
    "class AggregatorResponse(BaseModel):\n",
    "    answer: str = Field(description=\"Answer to the question.\")"
   ]
  },
  {
   "cell_type": "code",
   "execution_count": 26,
   "id": "d7691fc2",
   "metadata": {},
   "outputs": [],
   "source": [
    "\n",
    "@traceable(\n",
    "    name=\"agent_node\",\n",
    "    run_type=\"llm\",\n",
    "    metadata={\"ls_provider\": \"openai\", \"ls_model_name\": \"gpt-4.1-mini\"}\n",
    ")\n",
    "def aggregator_node(state: State) -> dict:\n",
    "\n",
    "   preprocessed_context = \"\\n\".join(state.retrieved_context)\n",
    "\n",
    "   prompt_template =  \"\"\"You are a shopping assistant that can answer questions about the products in stock.\n",
    "\n",
    "You will be given a question and a list of context.\n",
    "\n",
    "Instructions:\n",
    "- You need to answer the question based on the provided context only.\n",
    "- Never use word context and refer to it as the available products.\n",
    "- The answer to the question should contain detailed information about the product and returned with detailed specification in bullet points.\n",
    "\n",
    "Context:\n",
    "{{ preprocessed_context }}\n",
    "\n",
    "Question:\n",
    "{{ question }}\n",
    "\"\"\"\n",
    "\n",
    "   template = Template(prompt_template)\n",
    "   \n",
    "   prompt = template.render(\n",
    "      preprocessed_context=preprocessed_context,\n",
    "      question=state.initial_query\n",
    "   )\n",
    "\n",
    "   client = instructor.from_openai(OpenAI())\n",
    "\n",
    "   response, raw_response = client.chat.completions.create_with_completion(\n",
    "        model=\"gpt-4.1-mini\",\n",
    "        response_model=AggregatorResponse,\n",
    "        messages=[{\"role\": \"system\", \"content\": prompt}],\n",
    "        temperature=0.5,\n",
    "   )\n",
    "\n",
    "   return {\n",
    "      \"answer\": response.answer\n",
    "   }"
   ]
  },
  {
   "cell_type": "code",
   "execution_count": 27,
   "id": "d5086f40",
   "metadata": {},
   "outputs": [],
   "source": [
    "workflow = StateGraph(State)\n",
    "\n",
    "workflow.add_node(\"query_expand_node\", query_expand_node)\n",
    "workflow.add_node(\"retriever_node\", retrieve_node)\n",
    "workflow.add_node(\"aggregator_node\", aggregator_node)\n",
    "\n",
    "workflow.add_edge(START, \"query_expand_node\")\n",
    "workflow.add_edge(\"query_expand_node\", \"retriever_node\")\n",
    "workflow.add_edge(\"retriever_node\", \"aggregator_node\")\n",
    "workflow.add_edge(\"aggregator_node\", END)\n",
    "\n",
    "graph = workflow.compile()"
   ]
  },
  {
   "cell_type": "code",
   "execution_count": 28,
   "id": "bac6aebb",
   "metadata": {},
   "outputs": [
    {
     "data": {
      "image/png": "[encoded data removed]",
      "text/plain": [
       "<IPython.core.display.Image object>"
      ]
     },
     "metadata": {},
     "output_type": "display_data"
    }
   ],
   "source": [
    "display(Image(graph.get_graph().draw_mermaid_png()))"
   ]
  },
  {
   "cell_type": "code",
   "execution_count": 29,
   "id": "c393ddc3",
   "metadata": {},
   "outputs": [],
   "source": [
    "initial_state = {\n",
    "    \"initial_query\": \"Can I get a tablet for my kid, a watch for me and a laptop for my wife?\"\n",
    "}\n",
    "result = graph.invoke(initial_state)"
   ]
  },
  {
   "cell_type": "code",
   "execution_count": 30,
   "id": "98e71135",
   "metadata": {},
   "outputs": [
    {
     "data": {
      "text/plain": [
       "{'expanded_query': ['tablet for kid', 'watch for adult', 'laptop for wife'],\n",
       " 'retrieved_context': ['- ID: B0C3XYD574, rating: 4.4, description: ROWT Tablet for Kids 10 inch Kids Tablet 2GB RAM 32GB ROM Android 11 6000mAh Wi-Fi, Bluetooth, Kid-Proof Case(Blue) 【Kids\\' Safety & Parental Controls】Looking for a safe tablet that\\'s easy for your kids to use? This 10-inch tablet for kids is GMS-certified, has password protection, a content filter, and a one-button lock screen, making it easier for parents to keep an eye on their kids activities and learning. 【Creative Educational Content】Our kids tablet provides access to a range of age-appropriate creative kids content such as drawing, educational games, eBooks, learning videos, math tools, and much more! Learning through play is best for kids to understand the world. 【Powerful Configuration & Full Access to Google】This Android 11 kids tablet has an HD 1280x800 IPS touchscreen, 1.6 GHz Quad-Core processor, 2GB RAM & 32GB ROM storage, dual cameras, and a large battery with 6000mAh capacity. You have full access to Google Play to download the latest apps such as Gmail, Disney+, Youtube, and many more. 【10.1\" Large Screen + Eye Protection】This kids tablet is designed with a 10.1-inch large HD screen. The screen is designed to produce less glare and provide more clarity and brightness. It helps protect your eyes by reducing damage from blue light, letting your child be safer and more comfortable while using the tablet. 【Durable Kid-proof Case】Designed to be easy to use, this 10-inch large yet portable kids tablet includes a protective case with a built-in stand to protect the kids tablet from scratches and bumps. This kids tablet is a great gift for birthdays, Christmas, holidays, and more.\\n- ID: B0B8NVNQKX, rating: 3.6, description: COOPERS 7 inch Kids Tablet Android 11 Tablet for Kids, 2GB RAM + 32GB ROM Toddler Tablet PC for Children, IPS Touch Screen, Dual Camera, Dual Speaker, WiFi Computer Tablet, Light Blue ✿【Good Kids tablet】This 7 inch tablet for kids with silm body and lightweight, it is easy to hold by children. Also the special design can protect the tablet well when dropping. ✿【Parental Control】Toddlers Tablet with parent mode can add or block apps. Set screen time limits. This tablet come with iwawa app. kids can get access to fun and educational games and videos. ✿【Powerful Tablets】Equipmented with quad core CPU, Android 11.0 System, 32GB Big Storage, 1024*600 IPS Screen offer a clear view. Runs Kinds of apps and game for kids smoothly. ✿【Long Lasting】Tablet for kids built with large capacity battery. For mixed use up to 6 hours. You can enjoy happy parent-child time with your kids. ✿【Best Gift】This high performance Children tablet is designed specially for kids. Best gift choice for Christmas, New Year, Easter, Birthday and school supplies. Pacakge come with 1* tablet, 1* charger, 1* cable\\n- ID: B0BRXZDBXZ, rating: 3.7, description: Kids Tablet, 7 inch Tablet for Kids 3GB RAM 32GB ROM, Android 11 Toddler Tablet with WiFi, Bluetooth, GMS, Parental Control, Shockproof Case, Google Play, YouTube, Netflix 【iWawa APP with parental control】This kids tablet has passed the GMS certification and is pre-installed with the iwawa app, specially designed for children. It has password control, remote video control, one-button lock screen and Learning, art, smart games. New-upgrade kids online school, fun interaction, video playback 【Android 11.0 & 128 GB Expand】Android 11.0 operating system, 3GB RAM 32GB ROM, support WiFi, Bluetooth, GPS, etc. The HD 1024*600IPS display can offer a perfect experience, You can expand the storage to 128 GB of SD cards for storing photos, music and videos. The upgraded battery can last more than 6 hours, suitable for long-distance flights or road trips, Appropriate Age Grade Over 3 years old kids 【Kids Tablet with Case】The sturdy tablet case can protects your kids tablet. A colorful handle and a adjustable stand on the back of case allows toddlers to go hands-free while learning, watching and playing games, don\\'t need to hold 【Ideal gift for Kids】You can download different apps from the Google Play store, such as ABCMouse, HULU, YouTube Kids, Netflix, Zoom. Kids can explore the new-world, search for new-knowledge. The toddler tablet is an ideal gift for birthday, Christmas, holiday season for kids. Help your child develop in an all-around way 【5-year Warranty】Our kids tablet offers a 5-year warranty and Lifetime customer service, we will answer your any questions within 24 hours. Package includes：1 x Tablet PC, 1 x Protective Silicone Case, 1 x screen protector , 1 x OTG cable, 1 x Data Cable, 1 x User Manual\\n- ID: B0C772GZRF, rating: 4.3, description: Paxodo Kids Tablet, 10 inch, Android 10 Tablet PC, 6000mAh, 32GB ROM, Quad-Core, HD Dual Camera, WiFi, Parental Control, Kid-Proof Case (Blue) 🛫【High Performance Kids Tablet】Paxodo Kids Tablet uses Android 10 operating system, and has a built-in 1.6GHz high-performance quad-core CPU, 2G RAM, 32G ROM, Faster than other tablets. 🛫【Rich Application Resources】Full-featured tablet. With GMS certification, Download apps from Google Play Store, Gives you the best resources for learning and entertainment. 🛫【Parental Control Mode】Has a great parental control mode that allows for time limits, educational goals, filtering of age appropriate content ……,To create a safe online environment for kids. 🛫【Eye protection HD screen】Features a premium IPS 1280x800 HD screen. Designed with low blue light technology. Enter reading mode with one click, helping be safer and more comfortable. 🛫【Battery Capacity & Kid-proof Case】Has a large built-in 6000 mAh battery, giving up to 5 hours of daily use with a single charge. It\\'s convenient for long flights, camping, and road trips.\\n- ID: B0BL2CZSHT, rating: 4.7, description: All-New 10and 10 Plus 2021 Tablet Case for Kids, Ubearkk Adult & Kids Friendly Light Weight Shock Proof Kid-Proof Back Cover Compatible 101h Generation 2021 Model Compatibility- Designed for All-New ＨＤ 10 & ＨＤ 10 Plus Tablet & ＨＤ 10 Kids Pro Tablet Latest model(Only compatible with 11th Generation, 2021 Release). NOT Fit for other generations. Kids-proof Case-Made with dense heavy duty EVA foam material can withstand considerable wear and tear and provide extreme shock protection. Super light weight and durable hazard free safe material perfect for kids and grownups alike. Built-in Kickstand - Designed with a foldable kick-stand on the back of the case, allows you to set up multiple angles and gives you the hands-free convenience when watching videos and movies. Precise cutouts- Full access to all ports, buttons, and cameras, speakers and rear-camera without removing the tablet case. What You Get- Tablet case x 1.(The tablet is not included, and NO screen protector included). If you encounter any problems, please feel free to contact us.\\n- ID: B0BN7WWH63, rating: 4.5, description: All-New Fire HD 8 Tablet Case, Fire Tablet 8 &8 Plus Case for Kids (Compatible 2022 & 2020 Release) - Auorld Kid-Proof Light-Weight Case for Fire HD 8 inch Tablet, Blue Tablet 8 Kids Case design specifically for all-new 8 inch Tablet and 8 Plus Tablet(12th/10th Generation, 2022/2020 Release), NOT fit for other models. Made with dense heavy duty EVA foam, material can withstand considerable wear and tear and provide extreme shock protection. Super lightweight and durable hazard free safe material perfect for kids and grownups alike PRECISE OPENINGS-Cutouts for easy access to all-new 8 inch tablet & 8 plus tablet buttons, ports, speakers and rear-camera. When installing, remove the black frame first.Raised screen bezel edges for extra protection when fall Special rear pattern with raised supports for grip and drop protection in a honey comb design. Anti-slip side grip feature with ergonomic grip supports What You Get: 1x tablet case,friendly customer service. Accessory: the tablet don\\'t be included, NO screen protector included\\n- ID: B08CGM6Y1J, rating: 4.6, description: 8in Tablet Case for Kids (12/10th Generation, 2022/2020 Release), OQDDQO Light Weight Anti Slip Shockproof Kids Friendly Case for 8 inch Tablet (Black) New Design: Specially designed for All-New tablet 8 case (8in tablet 12/10th Generation, 2022/2020 Release), Compatible with 8 Plus case. Note: Not applicable to other tablets Super protection: With a protective layer of 1.5mm thickness, it is designed for double airbags with four corners for safer and more effective protection. Comfortable touch: side non-slip texture, 3D texture on the back, high-quality EVA material, very comfortable hand. Precise incision: All Ports, buttons and speakers have precise cut-outs for Easy access. we gift to you extra two wrist ropes to prevent the tablet from accidentally falling causing damage. Warranty: If you have any questions or dissatisfaction with our products or services,please feel free to contact us we will be happy to help you.\\n- ID: B0B2P18Z31, rating: 4.2, description: DOQAUS Wired Headphones for Kids, Kids Headphones with Microphone & Volume Limiter & Shareport, Gift for Children/Girls/Boys/Teens, 3.5mm Jack for Cellphones/Computer/Kindle/Tablet/School/Travel(Pink) 【Pure Sound Quality】Relying on the 40mm driver unit and professional sound technology, DOQAUS Kids Headphones adopts the child\\'s special pronunciation frequency band, which is high-fidelity and high-definition, effectively avoids external interference, and creates a quiet and relaxing environment for kids. 【Safe Volume Control, Hearing Protection】With 3-level volume control (74dB/85dB/94dB) specially designed for children, our Wired Headphones for kids are suitable for children of all ages. The Kids Headphones wired can be limited to a sound level of 85dB to protect your child\\'s hearing, and also allow to reach 94dB, which can be heard clearly in noisy environments without damaging the hearing. 【Safe and Cmofortable Materials, Lightweight Design】DOQAUS Kids Earphones are made with kid-specific materials to protect kids\\' sensitive and delicate skin. The headphones weigh only 0.5lb. The soft ear cups have good breathability, so children won\\'t be uncomfortable even wearing them all day. Foldable design for easy portability and storage. 【In-line Microphone & Great Compatibility】The in-line microphone brings a clear calling experience, which is suitable for online study, voice and video calls, perfect for learning, entertainment, and travel. The Kids Headphones Wired support devices with a 3.5mm audio jack, such as iPad, Chromebook, Switch, Smartphone, Computer, Kindle, MP3/4, Fire Tablet, Study Tablet, Laptop, PC etc. 【With Shareport, Share the Moments】No splitter required! Kids can plug another headphone into the sharing jack to share audio with friends or family without splitters or special cables. The shared jack is located on the aux cable instead of the headphone, making it more flexible to use.\\n- ID: B0C142QS8X, rating: 4.5, description: TUNEAKE Kids Headphones, Over Ear Kids Headset Stereo, Volume Limited 94dB, Foldable Adjustable Headphones for Kids, 3.5mm Jack Kid Headphones for Boys Girls Toddler School Laptop Travel Tablet, Pink 🍀LISTENING VOLUME🍀: Designed with 94dB volume-limiting technology, kids headphones offer adequate hearing protection that your child cannot listen to music or watch videos at dangerously high levels. Kids headphones for school NOTE: NO microphone, but you can still speak into the device\\'s mic that you are plugged into and will hear you. 🍀KID-SIZED FOR COMFORT🍀: The padded headband and soft ear cups on the kids headphones boys provides a comfy fit for kids. The adjustable headband makes it well-suited to your child. With cushy, perforated mesh on the cushioned cups, your child\\'s head will not feel hot. 🍀FOR EASY STORAGE AND PORTABILITY🍀: Children\\'s headphones feature a folding design that can fold up to help reduce their size, easy to store in your child\\'s backpack. The earmuffs can be rotated by 90°for easy hanging on the neck. 🍀WIDE COMPATIBILITY🍀: A 3.5mm aux port including a 120cm cable gives you the option to connect directly to devices. Compatible with all Smartphones, Chromebooks, iPads, Tablets, Computers, Laptops, and all 3.5mm audio jack devices. 🍀FUN FOR KIDS🍀: Kids headphones wired has easy controls that can allow children to use them without any difficulty. Whether your little one needs school headphones for online learning, or just to jam out to their own tunes, finding the kid headphones for them is worthwhile. Lifetime Support, Easy to Reach Customer Service.\\n- ID: B09WVHZ4X8, rating: 4.6, description: Gerutek Galaxy Tab A8 10.5 Inch Case 2022, SM-X200/X205/X207 Case, Heavy Duty Shockproof Rugged Protection Cover for Samsung Tab A8 10.5 Case with 360 Rotatable Kickstand/Hand Strap 【Compatibility】Specially designed for Samsung Galaxy Tab A8 10.5 inch 2022/2021 Released, Models:( Models: SM-X200/X205/X207) Built-in pencil holder, full access to all buttons, ports and functions. 【Kids Samsung Galaxy Tab A8 Cover Shockproof & Drop-Proof】 3-layer structure provides your tablet in full body Protection against accidental Drop ,Scratch,Bump,impacts and Shock during daily use .10.5 inch samsung tablet case has 2 layer high quality PC shell,1layer soft silicone,so nice to touch.Unlike other fragile, thicker and softer silicone-wrapped 2-layer sturdy PC that on impact forms a cushion. 【Removable & Adjustable Shoulder Strap】Anti-skidding soft silicone with a wonderful touch feeling. Convenient Gerutek Samsung Galaxy Tab A8 case can free your hand that does what you want, even could hang it behind the headrest of a car seat for kids to watch the video. 【360° Rotating Hand Strap & Kickstand】 This full body protective tablet case can support in different viewing angles/drawing angles/typing angles, you can hold safely by one hand with the strap on the back of the case, which is convenient during meeting, working or reading. 360 Degree rotating Kickstand provides multi-angle viewing, with soft handle strap, easier to use your tablet in your outdoor travelling, working, gaming with kids. 【100% Satisfaction with After-sales Service】Highly practical and high protective \"Galaxy Tab A8 10.5 Inch case\".Packing stands up to accidental bumps and tumbles. Please don\\'t worry about the product. If not, Have any questions please do not hesitate to contact us through Amazon we will respond within one business day.\\n',\n",
       "  '- ID: B0BGLRMPQD, rating: 4.5, description: Monocular Telescope, 10x42 Monoculars for Adults, Usogood Compact Portable Waterproof Monocular with Hand Strap, Lightweight Handheld Pocket Telescope for Bird Watching 【10x42 High Definition and Comfortable Viewing】This monoculars for adults with a 42mm objective lens provide 10x magnification, which ensures that you can easily magnify the object with a stable view when observing handheld. With a large field of view of 360ft/1000yards, you can clearly see the mountains 1200 yards away. 【22.5 mm Extra Large Eyepiece, More Detail, Clearer and Brighter】Equipped with an oversized 22.5 mm eyepiece, this handheld monocular offers you a comfortable viewing experience. Including the BAK4 prism, all the lenses are fully multi-layer coated to reduce light loss by 99.99%, providing you with a brighter picture. 【Extremely Lightweight to Carrying Out, Multiple Carrying Options】This monocular comes with a hand strap and double lens covers, all that weighs less than 9 oz, which is light as your smartphone! Also comes with a soft case with a neck strap, so you can easily take it outside. Perfect for bird watching, deer watching, sporting events, etc. 【Mini Size, Handheld, One-finger Precision Focus】Different from other 12x50 monoculars, this compact monocular measures 5.8\\'\\' x 2.5\\'\\' x 2.1\\'\\'. You only need one hand to hold it securely, and never feel hand soreness. Designed with the double focus ring, you can easily get a sharp view by adjusting either of them. 【See From 3 Yards to Infinity With Clarity】The close focus distance of this small monocular is less than 3 yards. It not only helps you observe the flowers in your yard or the birds in the trees, but also easily brings the landscape thousands of miles away to your eyes, such as a volcano ready to erupt. Also comes with 30-day hassle-free money back guarantee and LIFETIME WARRANTY.\\n- ID: B09SPBM7D3, rating: 4.0, description: Smart Watch for Women, Blackview 24 Sports Modes, Heart Rate Monitor, Fitness Activity Tracker Smartwatch, Blood Oxygen SpO2, IP68 Waterproof, Calorie Counter, R5 for Phone & Android Phones, Orange ❤️【24/7 Heart Rate Monitor & Sleep Tracker】Blackciew R5 fitness tracker checks your heart rate anytime and makes you better understand your health trends. automatic sleep tracking your deep, light, and awake sleep patterns, and provide a comprehensive analysis of your sleep quality (deep sleep, light sleep and wake up time) to help you get a better understanding of your health and make reasonable adjustments to your lifestyle. ⌚【Unique Personalized Watch Faces & Practical Functions】Blackciew fitness tracker watch can DIY watch face, making it a unique Christmas or birthday gift in the world. The waterproof fitness tracker includes many practical functions, Call Notifications, SMS and APP Messages (WhatsApp, Facebook, Messenger, Instagram...), (Note: cannot make calls and reply messages). Music and Camera Control, Brightness Adjustment, Weather Display, Alarm Clock, Stopwatch, Call Rejection, Find Phone, Find Watch. 🏃【Tracks Daily Activities】The smart watch with 24 sport modes records your all-day activities, including steps, distance, calories, female cycle tracking, sedentary reminder, and other health functions. Besides, SpO2 measures the level of oxygen saturation in the blood , help achieve total fitness management from your wrist. 🔋【Long Battery Life & IP68 Waterproof Smartwatch】One full charge only takes 2.5 hours maximum gives up to 9-15 days of working time, thanks to its large capacity and low power consumption design. Blackview Smart Watches are designed with IP68 waterproof rating, It can protect from splashes, rain and sweat. 🎁【Compatibility & 100% Refund Guarantee】Blackview R5 is compatible with most iOS 9.0 and Android 4.3+ smartphones. This health tracker watches can be a good choice for men, women, kids, parents, children, lovers. If you encounter any problems during use, please contact us. We provide 24 hours service and one-year quality guarantee, and we promise to return your money if you are not satified with your purchase. Buy without risk!\\n- ID: B0BWVD7KZG, rating: 3.9, description: Smart Watch for Men Women, 1.69\" Full Touch Screen Fitness Tracker with Heart Rate and Sleep Monitor, Activity Tracker with IP68 Waterproof Pedometer Calorie, Fitness Watch for Android and iOS Phones Multiple Function Smart Watch: This smartwatch includes more practical functions, activity tracker (pedometer, calories, distance), heart rate monitor, sleep tracker, 8 sports modes, call notifications, sms and app messages (whatsapp, facebook, Twitter, instagram ...), camera and music controller, sedentary reminders, weather, alarm clock reminder, stopwatch, women\\'s menstrual cycle, find your watch ect. 24/7 Heart Rate Monitor and Sleep Tracker: Our smart watch can monitor your heart rate and measure your SpO2 oxygen saturation in real time and understand your health status at anytime. Activity trackers can record your deep, light, and awake sleep patterns, and track your sleep quality status to get a better understanding of your health and and make reasonable adjustment on your lifestyle. What\\'s more, you can view historical data in the app “Da Fit”. Support 8 Sports Modes and IP68 Waterproof: Our fitness trackers feature 8 built-in sports modes, allowing to satisfy sports enthusiasts whether indoors or outdoors. It will record exercise data when you workout, track your daily steps, distance and calories consumed. Aslo with the technology of ip68 waterproof, the smart watch will not be damaged even if you wash your hands, bathe and swim while wearing the fitness watch (Notice: not suitable for diving, swimming or sauna). Long Battery Life and Exclusive Wallpapers: The large battery capacity (230mAh) and low power consumption design offers longer endurance. It supports 7 days of normal use and 30 days standby time, so Jugeman smartwatches are very suitable for outdoor sports, workouts whole day! Also, easily switch your look from one to another with the latest collection of watch faces, also you can customize the watch face and create your style. Smart Notifications and Compatibility: Download and install free \"Da Fit\" APP, bind this watch in your cell phone, you can receive alerts of calendar, incoming calls, SMS, APP notifications and SNS (Messenger, WhatsApp, Twitter, Instagram, etc) and preview the messages. The sport watch is compatible with iOS 9.0 and Android 5.0 and above smartphones.\\n- ID: B0CH6P8DYF, rating: 4.3, description: New 2023 80x100 High Powered Monoculars for Adults high Powered BAK-4 Prism and FMC Lens Monocular Telescope for Smartphone Monoculars for Bird Watching/Wildlife/Hunting/Hiking 【80x100 High Power Monocular】100 mm object diameter monocular, 80 times magnification. Using optical technology, this monocular uses a fully coated lens to ensure excellent light transmittance and image brightness, provide images with high definition, high quality and high color saturation. 【Compact Monocular】Compact and light monocular brings you the distant scenery by adjusting the eye cup and focusing wheel. The monocular is small and easy to carry, and can also obtain stable and clear images with one hand. 【High Definition And Super Bright View】This monocular with FMC Superior BAK4 prism lens, which can greatly reduce light loss and get greater magnification with a brighter and clearer field of view. 【What you will get in Package】Monocular telescope, Tripod, Dust bag, Lanyard, Instructions, Phone Hold. With a phone adapter and a tripod, you can take clearer and more beautiful photos outdoors at any time, capture the wonderful moments and share with your friends. 【The Most Valuable Gift】Perfect Gift for Camping, Hunting, Outdoor gear, Travel, Cruise accessories, Bird Watching, Sports, Football, Soccer. The monocular provides the broadest and most natural view and is an ideal gift for friends and family.\\n- ID: B09T7B55W3, rating: 3.1, description: JrTrack Cosmo 2 Kid’s Smartwatch | 4G Phone Calling & Text Messaging | GPS Tracker Watch for Kids | Pre-Installed SIM Card & Flexible Cosmo Data Plans | Children’s Phone Alternative (Purple) GPS TRACKER WATCH FOR KIDS – COSMO’s JrTrack 2 4G Smartwatch is the best-selling phone alternative for kids ages 5-12. Whether your kids are walking to school, playing with friends, at sports practice, or other activities in between, have peace of mind knowing they are safe and secure. With two-way calling and custom text messaging, 3-point verification GPS tracking, and other safety features, it is the perfect solution to keeping your kids safe and connected. PRE-INSTALLED SIM CARD & FLEXIBLE DATA PLANS – Every JrTrack 2 comes with a pre-installed SIM card & must be activated by purchasing a flexible & affordable COSMO Connect plan, which starts at $14.99/mo. You’ll receive unlimited talk & text, access to the Mission Control Parent App, & powerful safety features, that all operate through our family-safe nationwide network, perfect for urban & suburban areas. Our customer service team is available for any help you may need along the way. MISSION CONTROL GUARDIAN APP – Our data plan comes with access to the Mission Control Guardian App that allows you to manage calling, messaging, GPS tracking, safe zones, approved contact lists, & more, all from the palm of your hand. Having a child grow up in the digital age is hard enough, let us make it easy for you to stay connected while giving your kid independence without compromising their safety. SAFELY STAY CONNECTED – COSMO’s software is firewalled against internet browsing, social media, and adult content. Our GPS functionality is equipped with helpful custom safe zones that will send you periodic alerts as they enter or leave designated areas making our watch the perfect safety gadget. Your data security and privacy are our top priority. Our device is 100% COPPA compliant, safety tested, and operates on the highest-grade data security standards. ADDITIONAL FEATURES – With 2-way communication, touch screen, texting keyboard, voice calling, live GPS tracking, safety zones, pedometer and more, COSMO’s JrTrack 2 is the perfect first device for your child. Your kids will love the front facing camera so they can capture and share special moments and you will love the class mode setting so you can block out distractions during the hours you set.\\n- ID: B0BNPVBZPG, rating: 3.6, description: Smart Watch for Men Women (Make/Answer Call), Fitness Tracker for Android and iOS Phones with Heart Rate Sleep Tracking for Health, Waterproof Large Screen Smartwatches Monitor Pedometer(Black) ⌚【Smart Watch with Text and Call Reminder for Timely 】: When the Bluetooth of the watch and the mobile phone is connected, you can directly dial the phone number on the screen or answer the phone. Information is also displayed on the smartwatch simultaneously. No matter where you are, you can easily view your messages. The smart watch will never let you miss an important call or message. The smartwatch also has a sedentary reminder to remind you to sit too long and to drink water. 💧【Fitness Tracker Watch for Men and Ladies 】: The health smart watch can set more than 20 sports modes: running, cycling, mountain climbing, yoga, skipping rope, etc. The fitness watch provides you with daily health analysis and improvement reference data. The tracking watch records daily steps, calories burned, distance traveled, and more. These training modes can help you achieve your fitness goals and are your fitness companion! Make your exercise routine more effective and beneficial. ⌚【Watch Heart /Sleep Rate Monitoring】: The smart watches for men and women uses smart algorithms to monitor heart rate, and the wrist optical sensor captures heart rate variability, taking care of your physical and mental health. The sleep monitor will track your deep sleep and light sleep time at night, and you can get a better understanding of your sleep quality on health smartwatches and apps. The scientific sleep monitor helps you analyze your sleep status by recording. 💧【Long-Lasting Battery and Waterproof Smartwatch】: The smartwatch is waterproof and protected from damage by rain or sweat. This means you don\\'t need to take it off when you wash your hands or shower. (Note: Do not immerse the watch in seawater or hot water) The android iphone smart watch has a large battery and a short charging time. You can use it for up to a week or more on a single charge. Even connecting bluetooth to the mobile phone will not cause the watch to consume a lot of power. ⌚【Great Gift Smartwatch with Big Screen】: The smartwatch is compatible with iOS 9.0/Android OS 5.0 or later smartphones. The high-quality metal frame is matched with a full-touch color screen, bringing a comfortable touch and an excellent visual experience. The smartwatch is also the best choice for a gift, you can give it to your parents, lover, or friends for Christmas and birthday gifts. If you have any problems, you can contact our customer service, we will solve all your problems for you!\\n- ID: B0BM9MTSH2, rating: 4.0, description: Smart Watch, Touch Screen Smartwatch for Android Phones, Fitness Tracker with Heart Rate and Sleep Monitor, Waterproof Pedometer Watch Activity Tracker with Step Counter for Men Women 1.69\" Full Touch Colour Screen and Customized Wallpaper: Smart watch for men and women is equipped with a large 1.69” TFT color screen with a 240 x 280 resolution, allowing you to view watch data more clearly and intuitively. Smartwatch has 100+ multiple watch faces to choose from and you can customize the watch face to show your personality. The sports watch comes with a TPU skin-friendly strap that allows your wrist skin to breathe. 25 Sports Modes and All-day Activity Data Tracking: Men’s smart activity tracker watch has 25 sports modes (walking, running, cycling, skipping, badminton, basketball etc.). So this fitness watch can meet your needs for recording daily exercise data, and provide related data (like steps, calories, exercise duration and sports goal reminder) for your daily health. Also, connecting the GPS on your cellphone can show run status like pace, miles, calories and record a map of your workout route. 24/7 Real Time Heart Rate and Sleep Monitor: Smart watches adopt the high-performance sensors monitor and use an intelligent algorithm to track 24 hours heart rate, paying attention to your physical health. Sleep monitor tracks your sleep stage data in deep sleep, light sleep, real sleep time through a comprehensive analysis of sleep quality data to help you grasp the health information better and achieve a healthier and self-discipline lifestyle. (Watches cannot be used for medical purposes.) Multifunction Smart Watch and Smart Notifications: Lrecat smart watch includes more practical functions, fitness tracker (pedometer, calories, miles), stopwatch, timer, vibrating alarm clock, calculator, blood oxygen monitor, coming-call notifications, SMS and APP messages (WhatsAPP, Facebook, Messenger, Instagram...) notifications, weather notification, music&camera control, brightness adjustment, sedentary&drinking water&period reminder, find watch etc. IP68 Waterproof and Wide Compatibility: IP68 waterproof design makes you wear the android watch in any environments with no worry, such as when you washing hands, sweating. (Water vapor and sea water can cause corrosion to the sensor chip.) This smart bracelet is compatible with any smart phones that use iOS 9.0/Android 4.0 or above and supports 17 kinds of languages. It only takes 1.5 hours to charge and can be used for up to 7 days. ( It is recommended to turn off rarely used functions to save battery life. )\\n- ID: B0BL2CZSHT, rating: 4.7, description: All-New 10and 10 Plus 2021 Tablet Case for Kids, Ubearkk Adult & Kids Friendly Light Weight Shock Proof Kid-Proof Back Cover Compatible 101h Generation 2021 Model Compatibility- Designed for All-New ＨＤ 10 & ＨＤ 10 Plus Tablet & ＨＤ 10 Kids Pro Tablet Latest model(Only compatible with 11th Generation, 2021 Release). NOT Fit for other generations. Kids-proof Case-Made with dense heavy duty EVA foam material can withstand considerable wear and tear and provide extreme shock protection. Super light weight and durable hazard free safe material perfect for kids and grownups alike. Built-in Kickstand - Designed with a foldable kick-stand on the back of the case, allows you to set up multiple angles and gives you the hands-free convenience when watching videos and movies. Precise cutouts- Full access to all ports, buttons, and cameras, speakers and rear-camera without removing the tablet case. What You Get- Tablet case x 1.(The tablet is not included, and NO screen protector included). If you encounter any problems, please feel free to contact us.\\n- ID: B0BWN4MYDK, rating: 4.1, description: Smart Watch (Bluetooth Call Recevive/Dial), 42mm Full Touch Screen Fitness Tracker, IP68 Waterproof Watch with Heart Rate,Blood Oxygen, Smartwatch for Men Women and Compatible with iOS Android Phones Large LCD-TFT Color Screen: With a 1.69-inch screen and LCD-TFT display technology, this smart watch offers a clear and vibrant visual experience, making it easy to read messages, view notifications, and track your fitness data. Express more of yourself with editable watch faces & widgets - or customize with your photos. Bluetooth Calling & Answering: With the ability to connect to your smartphone via Bluetooth, this watch can make and receive calls and display notifications from your phone. Please kindly note: you\\'ll need to keep your phone and watch connected for these features to work. 100 Sport Modes Fitness Tracking: With 100 different sports modes to choose from, you can monitor your workouts in a variety of activities, including running, cycling, swimming, and more. The smartwatch also tracks your steps, distance, and calories burned in real-time, helping you to stay on top of your fitness goals. Comprehensive Health Monitoring: With continuous heart rate monitoring and sleep tracking, this watch provides a holistic view of your health. It can analyze your sleep patterns, including deep sleep, light sleep, REM sleep, and wake-up time, helping you to improve your sleep quality. The watch also features a blood oxygen monitoring function, which can help you to understand your body\\'s oxygen levels. Water-Resistant Design: With an IP68 waterproof rating, this pedometer watch is designed to withstand splashes, rain, and even swimming, so you can wear it worry-free during your daily activities. Long Battery life: With the 290mAH battery capacity, the watch can be used for 7-10 days after being fully charged. This fitness watch can keep up with your active lifestyle without requiring constant charging. Additional Features: Our fitness tracker also includes other functions, including Brightness, female period reminders, music control, camera control, weather forecasting, timers, stopwatches, and drink water reminders. Smart Watches for Men Women.\\n- ID: B0B4N1D73R, rating: 4.2, description: AirTag Bracelet Air Tag Wristband for AirTags Toddler DIY Silicone Bracelets Hidden Anti-Lost Holder Tags Waterproof Case Adjustable Length Band for Girls (Pink, Yellow) 【Length for Kids】 Length can be easily adjusted for children, even toddlers. [Wrist Circumference: 5~6.5 inch] 【Never Lose Kids】 All-round protection without blocking the signal, always know where your baby is. Don\\'t worry about kids running around. 【DIY AirTag Bracelet】 Multiple removable cartoon decorations for kids to mix and match, enhance imagination & unleash creativity. 【Compatibility】 Specially designed for Apple AirTag. 【Won\\'t Pop Up】 Double Protection, Firmly Upgrade. Prevent AirTag/doll from popping up.\\n',\n",
       "  '- ID: B0B1GXQ78F, rating: 4.3, description: DEOJOY Laptop Desk for Bed, Bed Table Bed Desk for Laptop and Writing, Computer Tray Laptop Stand for Bed or Sofa with Anti-Slip Leather, Book Stand , Without Drawer (Black) 💕【PERFECT DESIGN】 This laptop stand for bed is measured at 23.6\"(L)x15.7\"(W)x11\"(H). The middle part of the laptop bed tray has a slot design, which can be used to put phones or pads, tablets. Additional, there is a cup holder. You can put a drink or cup in it when you working on bed or sofa. 💕【FOLDABLE &SPACE SAVING】No assembly required, it‘s ready to go right out of the box.The foldable table legs make this foldable laptop bed table very portable and easy to store. This lap desk doesn\\'t take up too much space. 💕【MATERIAL ENVIRONMENTAL PROTECTION】Our portable laptop desk is crafted with durable medium-density fiberboard (MDF) and round aluminum alloy foldable legs with an anti-slip cushion, this no assembly bed desk is just a quick setup. Just open and adjust the legs, then start with your tabletop tasks. 💕【EASY TO USE】The foldable laptop desk for bed or sofa does not need to be installed and can be used directly when opened. The foldable laptop bed table mainly used for laptop workstation, laptop table for bed, a children\\'s bed table, a mini writing table, a standing table for office work, laptop couch table, or a book/tablet table, picnic table, etc. 💕【PACKAGE AND CUSTOMER SERVICE】1 x Lap Desk. If you have any dissatisfaction and problems with our products, please contact us immediately, we will reply within 24 hours.\\n- ID: B0C6L1RC6Y, rating: 4.0, description: Sleep Headphones Bluetooth Sleeping Headband - Comfy Sleeping Headphones for Side Sleeper, Elastic Music Sleep Band Cozy ASMR Wireless Eye Mask Father\\'s Day Gifts for Dad from Daughter Son Wife Men Sleep Headphones & Sleep Mask & Sports Headband 3 in 1: HANPURE Bluetooth sleep headphones feature a soft waved edge headband design with wireless headset and mic inside, allowing you to block snoring and enjoy music while sleeping, blocking bright lights while having a snap, and avoiding being disturbed by your mess hair and sweat while doing sports. The stylish sleep headphones bluetooth headband is perfectly suitable for sleeping, air travel, nap, workout, gym, running, and yoga. Awesome Alternative to Earbuds, Perfect Sleeping Headphones for Side Sleepers: The speakers inside the super-comfy sleep band are flat and padded, making HANPURE sleeping headphones comfortable enough to wear while lying down or sleeping on your side. The upgraded design also avoids distracting beeps or bright lights when the battery runs out. Unique Bluetooth headband for nightly meditations, ASMR, white noise, audiobooks or your sleepy-time playlist.Tech gifts Bluetooth headbands for women men Fifth-generation Upgraded Patent Design for More Comfortable Wearing: HANPURE sleep headphones are designed with upgraded waved edge, fit snugly on your nose bridge and no squeeze at all, block out light and cover your ears totally. The considerate cutout is specially designed for you to take out or put back the electronic parts for washing. Such a great sleep headband is idea gifts for women and men as Birthday gifts, Valentine\\'s Day Gifts, Mothers Day gifts, Christmas Gifts Stocking Stuffers. Premium Battery Ensures 10 Hrs Excellent Audio Entertainment: HANPURE Sleep headphones are powered by an advanced rechargeable lithium battery which can last 10 hrs and ensure a whole night\\'s good sleep after 2 hrs of recharging. Wireless sleep headphones feature Bluetooth 5.2 version with quality chip, fast paring speed, less power consuming, ensure stable high fidelity sound. Ideal gifts for men women with tinnitus issues, college students,shared apartments,noisy roommates,and snoring spouses. Holiday Gift Guide, Gift Wrap Available - The must-have for stocking stuffers for women and men, gifts for mom and dad, guy gifts for women men, husband, wife, boyfriend, him, her, adult, stepfather, teens, brother, teenage boys, teenage girls, family, stepdad. Personalized gifts ideas such as Birthday Gifts, Valentine\\'s Day Gifts, Father\\'s Day Gifts, Mother\\'s Day Gifts, Thanksgiving Day gifts, White Elephant Gifts, Christmas Gifts, Stocking Stuffers, New Year Gifts, and Anniversary Gifts. Buy with Confidence: If you’re having trouble getting to sleep, you’re not alone. HANPURE sleep headphone is a comfortable pair of headphones designed specifically for comfortable sleeping, sports activities, travel, music beadband and more. Take this one-size-fit-most Bluetooth head band back home, fall asleep fast, stay asleep and have a sweet dream. If you have any questions about HANPURE sleeping headphones, please feel free to contact us and we will find the right solution for you!\\n- ID: B0BKG66J4N, rating: 4.6, description: Kuosdaz Travel Laptop Backpack for Women Men, 15.6 Inch Quilted Work Backpack Purse with USB Charging Port, Large Anti-theft TeacherBook Bags, Casual Daypacks, Army Green(over 3 years old) Fashion Green & Gold Water-resistant Material: Green backpack for women is made of fashion stitch texture polyester waterproof fabric and gold-plated zipper on the outside, and tear-resistant material on the inside for durability. The top of the Laptop backpack is equipped with a comfortable PU leather handle, which is easy to carry and adds a fashion feel. Large Capacity Backpack with Laptop Compartment: The size of Kuosdaz Laptop Backpack for Women is: 17*12*7 inch, 25L. The laptop backpack has a total of 4 compartments and 2 side pockets - 1 padded 15.6 inch laptop compartment. 1 main compartment inside for your folders, books, clothes, etc., as well as other daily necessities. 2 front pockets can hold pens, sunglasses, charger, keys. Travel laptop backpacks keep everything organized. USB Charging Port : With an external USB charging port and built-in a charging cable inside, and there is a special pocket inside the laptop backpack to place the power bank (Note: power bank is not included), providing you with a more convenient way to use your mobile phone while walking or traveling. Laptop Backpack makes your trip and travel more convenient wherever you go. Anti-Theft Pockets & Luggage Strap: This work travel Backpack for women has an embeddable luggage strap that slides easily over your luggage/suitcase handle to relieve your back and shoulder pressure during use. The hidden anti-theft pocket on the back of the backpack for women can protect your smart phone, wallet, passport, other valuables from being lost for all basic daily needs for college, work, travel, hiking, business trips. Stylish Back Pack for All Occasions: This is a stylish computer daypack, ideal gift for granddaughter, daughters, friends, lover, teachers, womens. A great choice for office work backpack, travel backpack for women, bookbag, daily use basic backpack, nurse backpack, teachers backpack, all indoor and outdoor activities.Age: over 3 years old\\n- ID: B0BML99MQ3, rating: 4.7, description: Nulaxy 360 Rotating Laptop Stand for Desk, Laptop Riser Adjustable Height and Angle, Foldable and Portable Travel Laptop Stand, Holds up to 22lbs, Fits All MacBook, Laptops 360 Rotation: This laptop stand lets you turn your laptop to any angle thanks to its 360° rotating axis that connects to the base. The rotating laptop stand for desk allows you to easily share your screen with someone sitting across the room or at another desk. It also works great for ideas sessions when collaborating with others over video chat or calls. Support Second Screen: This Swivel laptop stand can bring your laptop up to the level matching your monitor, holding your laptop as a second screen to smooth your flow while working or studying. The hinges are tight so that the laptop can be kept it stay in the right place. Improving Posture: Features the 6000 times rotation tested dual hinges, you can adjust the height and angle of the laptop riser to set the most comfortable position while using your laptop. Because of its ergonomic design, the laptop stand adjustable helps reduce your chance of developing back and neck problems. Less stress, more focus. Portable Comfort Helper: Thanks to the foldable design, you can take your laptop and this portable laptop riser wherever you go. You can set it up wherever you are as a comfort aid. The laptop stand is simple to transport whether you wish to work in a coffee shop or a library. Wide Compatibility: The size of the ergonomic laptop stand can accommodate various laptop and tablet sizes. Up to 10 to 17 inches of gadgets can fit inside. The laptop stand also contains hooks and a non-slip silicone cushion, ensuring your device (up to 22lbs) will never slide when you\\'re using it.\\n- ID: B0CFFGT7RM, rating: 4.3, description: Gifts for Men Who Have Everything, Gifts for Him, Smart Watch for Men, Fitness Tracker with Heart Rate Blood Pressure Oxygen Monitor iPhone Android Compatible Relojes Inteligentes para, 1.4\\'\\' Black 【Nice Gifts for Men】This fitness tracking smart watch for men is not only makes it easier to receive / make calls, but it is also a must-have for tracking health and monitoring your statue when doing exercise. Stylish appearance, high-grade packaging, very suitable as a healthy gift for mens from wife on sepical days. Anniversary brithday gifts for men who have everything, unique gifts for men, retire gifts for dad, basket gifts for men, boyfriends. 【All-Day Heart Rate Monitor】Built-in high-precision PPG sensor to track your heart rate 24 hours a day. This heart rate monitor watch can also save your resting heart rate data to help monitor long-term heart rate changes. The blood oxygen is measured using reflective-light based sensor on this blood pressure watches for men women. When you experience shortage of breath, weakness or dizziness. This heart rate monitor watch can only help you train your breath to calm you down. gifts for men him 【Intelligent Fitness Watch】This Blood Pressure Monitor Watch has many features you need for a better experience to gives you new ways to train and advanced. Supports 20 professional fitness modes including yoga and HIT, as well as 100 extended fitness modes , it accurately monitors and analyzes over multiple data points such as heart rate, steps, and calories burned, Black round men fitness watch for iphone android compatible, smart watch fitness tracker with heart rate blood pressure 【Smart Notification】You can get call, SMS text and SNS messages including Facebook,Twitter, WhatsApp, Linkedin, Messenger and more when this womens mens smart watches are synced to the smart phone. The smart watches for women receives messages, calls, and app notifications by getting a vibration alert on the watches device, also can answer/make call or answer text with this relojes inteligentes para mujer. gifts for him, gifts for men who have everything, mens gifts 【Your Watch, Your Style】1.4\"touch screen covered with a sturdy and anti-scratch frame, WalkerFit A2 Pro black round Blood Pressure Monitor Watch offers stylish and elegant design and 5 dials readily available to choose from, over 200+ Multiple trendsetting dial within the app. Smart watch for men women to match your mood and outfit of every different day. Even create and customize your smartwatches own faces from your phone gallery. Unique gifts for men,gifts for him who have everything 【Healthy Assistant】Equipped with a high-precision sensor, this heart rate monitor watch with monitor to tracks your heart rate 24/7 and measures blood oxygen levels using a wrist-based sensor. This heart rate monitor watch also monitors your calories burned during exercise, making this fitness tracker watch an essential tool for keep fit. It makes a great gift for your loved ones. This fwomens fitness watch Ideal for high-intensity workouts and sports such as marathons and gym workouts. 【Good Travel Companion】Effortlessly control your smartphone camera with just a wave of your hand to make photos by this heart rate monitor watch, perfect for capturing memories with family on a vacation. This smart watch fitness tracker for men women also includes weather forecasting for 7 days future to help you plan your travel route each day ahead with ease.good travel gifts for men, gifts for him, gifts for men who have everything. mens gifts 【Always-on Battery Life】Blood Pressure Monitor Watch With a battery life of up to a week and standby time of over 20 days, this fitness smartwatch with heart rate monitoring is designed to keep up with your active life. Its fast-charging feature and magnetic enhanced charging cable make powering up effortless. Smart watch fitness tracker for men women with heart rate monitor. Gifts for men who have everything, gifts for him. Anniversary gifts for men, husband gifts from wife, tech gfits for men 【Waterproof Fitness Watches】2023 Upgrade Blood Pressure Monitor Watch With IP67 waterproof, this fitness tracker watch can meet the waterproof requirements of your daily activities such as washing hands or working out in the rain with this heart rate monitor fitness tracker watch. Whether it\\'s sweat or a small splash, just handle it with ease. round black smart watches for women, reloj de mujer inteligente, relojes inteligentes para mujer.Gifts for men, gifts for him, anniversary gifts for him Blood Pressure Monitor Watch, Fitness Watch, Heart Rate Monitor Watch,Smart Watch for Men Women,2023 Upgrade. Blood Pressure Monitor Watch, Fitness Watch, Heart Rate Monitor Watch,Smart Watch for Men Women, WalkerFit 2023 Upgrade Waterproof SmartWatches Fitness Tracker with Blood Pressure iPhone Android Compatible, 1.4 Inch Round black.\\n- ID: B0B62LR2YT, rating: 4.7, description: KIZUNA Laptop Bag Case 14 Inch shoulder sleeve Water Resistant Briefcase For 14\" MacBook Pro 2023/Lenovo Flex 14/14\" HP EliteBook 840 G5/HP Pro 14 G3/Dell Latitude 7490 5490/15\" Surface Laptop 3, Grey SIZE - Internal Dimension: 13.6\" x 10\" x 0.6\" / 34.5 x 25.5 x 1.5 CM, External Dimension: 14.8\" x 11.2\" x 0.8\" / 37.5 x 28.5 x 2CM. Proper fitment varies according to the size of devices. Please check the dimensions of your device before purchasing. COMPATIBLE WITH - 14\" MacBook Pro 2023/15\" Surface Laptop 3 / 14\" Lenovo Flex 4 6 14 / 14\" Ideapad 120s 520S / 14\" Thinkpad T480s T490 T490s / 14\" Lenovo Chromebook S330 / 14\" HP EliteBook 840 740 G5 / 14\" HP Pro 14 G3 / 14\" HP ProBook 640 G4 / 14.1\" Dell New Latitude 7490 5490 / 14\" Dell Chromebook 14 / 13.5\" Acer Chromebook Spin 13 Water-Resistant: Our sleeve Case made of soft water-resistant surface material which can protect your laptop from rain absorption, splash. EASY TO CARRY: You could use it as shoulder bag messenger bag and handbag. Considerate design is the back trolly belt for ease of use during business trips.Not only milti-funciton, but good-looking shape. Ultra Protection: Compared with other similar laptop case, Our bag features ultra-thick, lightweight protective cushioning inside to ensure your laptop will remain safe from drops, bumps, dents, scratches and spills\\n- ID: B0BX85LFW8, rating: 4.3, description: Acer Aspire 5 A515-56-347N Slim Laptop - 15.6\" Full HD IPS Display - 11th Gen Intel i3-1115G4 Dual Core Processor - 8GB DDR4 - 128GB NVMe SSD - WiFi 6 - Amazon Alexa - Windows 11 Home in S Mode Powerful Productivity: 11th Generation Intel Core i3-1115G4 Dual Core processor delivers unmatched speed and intelligence, enabling impressive creating, productivity, and gaming experiences. With Turbo Boost Technology, get up to 4.1GHz for your high-demand applications. Connectivity Technology: Wi-Fi, Bluetooth, HDMI Visibly Stunning: Experience sharp details and crisp colors on the 15.6\" Full HD IPS display with 82.58% screen-to-body, 16:9 aspect ratio and narrow bezels. Ergonomic Typing: Ergonomically designed hinge lifts the keyboard for comfortable typing, improved cooling, and a better sound experience. Internal Specifications: 8GB DDR4 on-board memory (1 slot available); 128GB NVMe solid-state drive storage (1 hard drive bay available) to store your files and media Acer\\'s Purified.Voice technology, features enhanced digital signal processing to cancel out background noise, improve speech accuracy and far-field pickup, which not only makes calls clearer, but makes talking to Alexa easier than before. Using Alexa on your PC is as easy as asking a question. Just ask and Alexa can check your calendar, create lists, play music, answer questions, read the news and more. Secure Operating System: Windows 11 Home in S mode comes with advanced security features built right in, like protections against phishing and malicious software so you don\\'t have to think twice when navigating to a new webpage or downloading an app.\\n- ID: B0BSS319BG, rating: 4.4, description: KLIM Ultimate + RGB Laptop Cooling Pad with LED Rim + New 2023 Version + Gaming Laptop Cooler + USB Powered Fan + Very Stable and Silent Laptop Stand + Compatible up to 17\" + PC Mac PS5 PS4 Xbox One ✅LARGE FAN FOR MAXIMUM COOLING. The KLIM Ultimate\\'s huge 200 mm fan dissipates the heat on your laptop to boost its performance. Avoid overheating now ✅COMPATIBLE WITH ALL SIZES. Any laptop between 10 and 17.3 inches will sit nicely on top of the extra large pad. With 4 inclination levels and a frontal stopper, your laptop will always stay in the ideal position. ✅\\xa0STYLISH & CUSTOMIZABLE. The bright RGB rim around the cooler has 5 effects and 7 colors to choose from so you can find the best look for your setup ✅ULTRA SILENT. This laptop cooling pad features a powerful fan that spins at 750 RPM and creates a large airflow to cool your computer with minimum noise. ✅ UNBEATABLE DURABILITY & 5-YEAR WARRANTY. Made with premium materials and a sturdy metal grid, the KLIM Ultimate is designed to stand the test of time. Covered by a solid 5-year warranty, it\\'s a completely safe purchase.\\n- ID: B0BVZ47N6N, rating: 4.8, description: VILVA Portable-Monitor-for-Laptop - 15.6\\'\\' 1080P FHD IPS Display USB-C&HDMI Portable Monitor for Laptop with Cover and Speakers, External Monitor for Laptop/PC/Mac/Phone/Xbox Switch/PS4 ✅Experience Unrivaled Visuals: Get the ultimate viewing experience with the VILVA Professional Portable Monitor! With its incredibly sharp 15.6 inch FHD IPS Screen, you\\'ll get a 1920 x 1080 resolution that viewing experience. Get it now and start working smarter, not harder and get yourself the professional portable monitor today. ✅Truly Wide Compatibility: Lets you connect your laptop, PC, MAC, tablet, phone, XBOX, PS3/PS4/PS5, switches, and more via USB-C or HDMI Port-- deliver a stable connection and steady data transmission. Enjoy great sound with the built-in dual stereo speakers, perfect for your business trip, travel, or home entertainment gaming setup. ✅Durable&Smart Cover: VILVA portable monitor has a high quality and durable metal material, which makes it shows a fine metal texture and high strength. Has magnetic leather smart cover that provides protection for the entire screen and easy to stand the portable monitor. ✅Look no further!: Get this portable monitor, complete with magnetic cover, USB-C to USB-C cable, Mini HDMI to HDMI cable, USB-A to USB-C cable, and USB-A power block now.\\n- ID: B0BSGDCVND, rating: 4.6, description: Missnine Tote Bag Canvas Laptop Bag 15.6 inch Briefcase for Women Large Capacity Handbag for Office, School, Travel Canvas+Pu Leather Imported Polyester lining Zipper closure Large Capacity: The roomy structure can accommodate your work and life requirements. Spacious compartment with a padded laptop section for better protection of a 15.6\\'\\' computer and a tablet slot for a 10.9\\'\\' iPad, keep your tech product well-organized Multi-pockets: 8 pockets keeping all your items organized and within reach. Convenient exterior front pocket that is easy to access for your essentials. Main pocket with a zipper closure for extra safety, 1 interior zipper pocket, 2 open pockets and 2 pen slots for your necessities Durable & Sturdy: The water-resistant canvas fabric, decorated with PU leather, prevents it from getting wet on rainy days. 4 rivets on the bottom can effectively stabilize your items to protect the base from damage and against accidental impacts. Stylish & Practical: Carry the fashionable briefcase with the comfortable detachable strap, making it versatile as a shoulder bag, or a crossbody bag, which remains chic through all seasons. The exquisite metal hardware and prints keep the laptop bag elegant and professional. Gorgeous gift: The tote bag for women fits all kinds of occasions, and matches all styles of outfits. A great gift for your family, lover, friends, and yourself.\\n'],\n",
       " 'initial_query': 'Can I get a tablet for my kid, a watch for me and a laptop for my wife?',\n",
       " 'answer': 'Yes, you can get a tablet for your kid, a watch for yourself, and a laptop for your wife from the available products. Here are some detailed options:\\n\\nTablet for Kids:\\n- ROWT Tablet for Kids 10 inch\\n  - 10.1 inch HD 1280x800 IPS touchscreen\\n  - Android 11 OS\\n  - 2GB RAM, 32GB ROM storage\\n  - 6000mAh battery\\n  - Kid-proof case with built-in stand\\n  - Parental controls including password protection, content filter, and one-button lock screen\\n  - Access to Google Play for apps like Gmail, Disney+, YouTube\\n  - Dual cameras\\n  - Eye protection with reduced blue light\\n\\nSmartwatch for Adults:\\n- Blackview R5 Smart Watch for Women\\n  - 24 sports modes\\n  - Heart rate monitor, blood oxygen SpO2\\n  - IP68 waterproof\\n  - Call notifications, SMS, and app messages\\n  - Long battery life (9-15 days)\\n  - Compatible with iOS 9.0 and Android 4.3+\\n\\nLaptop for Wife:\\n- Acer Aspire 5 A515-56-347N Slim Laptop\\n  - 15.6 inch Full HD IPS display\\n  - 11th Gen Intel i3-1115G4 Dual Core Processor\\n  - 8GB DDR4 RAM\\n  - 128GB NVMe SSD\\n  - WiFi 6, Bluetooth, HDMI\\n  - Windows 11 Home in S Mode\\n  - Alexa built-in\\n\\nThese products provide a good balance of features suitable for kids, adults, and professional use respectively.'}"
      ]
     },
     "execution_count": 30,
     "metadata": {},
     "output_type": "execute_result"
    }
   ],
   "source": [
    "result"
   ]
  },
  {
   "cell_type": "code",
   "execution_count": 31,
   "id": "3e679d3a",
   "metadata": {},
   "outputs": [
    {
     "name": "stdout",
     "output_type": "stream",
     "text": [
      "Yes, you can get a tablet for your kid, a watch for yourself, and a laptop for your wife from the available products. Here are some detailed options:\n",
      "\n",
      "Tablet for Kids:\n",
      "- ROWT Tablet for Kids 10 inch\n",
      "  - 10.1 inch HD 1280x800 IPS touchscreen\n",
      "  - Android 11 OS\n",
      "  - 2GB RAM, 32GB ROM storage\n",
      "  - 6000mAh battery\n",
      "  - Kid-proof case with built-in stand\n",
      "  - Parental controls including password protection, content filter, and one-button lock screen\n",
      "  - Access to Google Play for apps like Gmail, Disney+, YouTube\n",
      "  - Dual cameras\n",
      "  - Eye protection with reduced blue light\n",
      "\n",
      "Smartwatch for Adults:\n",
      "- Blackview R5 Smart Watch for Women\n",
      "  - 24 sports modes\n",
      "  - Heart rate monitor, blood oxygen SpO2\n",
      "  - IP68 waterproof\n",
      "  - Call notifications, SMS, and app messages\n",
      "  - Long battery life (9-15 days)\n",
      "  - Compatible with iOS 9.0 and Android 4.3+\n",
      "\n",
      "Laptop for Wife:\n",
      "- Acer Aspire 5 A515-56-347N Slim Laptop\n",
      "  - 15.6 inch Full HD IPS display\n",
      "  - 11th Gen Intel i3-1115G4 Dual Core Processor\n",
      "  - 8GB DDR4 RAM\n",
      "  - 128GB NVMe SSD\n",
      "  - WiFi 6, Bluetooth, HDMI\n",
      "  - Windows 11 Home in S Mode\n",
      "  - Alexa built-in\n",
      "\n",
      "These products provide a good balance of features suitable for kids, adults, and professional use respectively.\n"
     ]
    }
   ],
   "source": [
    "print(result[\"answer\"])"
   ]
  },
  {
   "cell_type": "markdown",
   "id": "94c95499",
   "metadata": {},
   "source": [
    "### Query Expansion (Parallel Execution)"
   ]
  },
  {
   "cell_type": "code",
   "execution_count": 32,
   "id": "c27407d2",
   "metadata": {},
   "outputs": [],
   "source": [
    "class State(BaseModel):\n",
    "    expanded_query: List[str] = []\n",
    "    retrieved_context: Annotated[List[str], add] = []\n",
    "    initial_query: str = \"\"\n",
    "    answer: str = \"\"\n",
    "    query: str = \"\"\n",
    "    k: int = 10"
   ]
  },
  {
   "cell_type": "markdown",
   "id": "dd444e3c",
   "metadata": {},
   "source": [
    "#### Query Expansion / Rewriting Node"
   ]
  },
  {
   "cell_type": "code",
   "execution_count": 33,
   "id": "50c02500",
   "metadata": {},
   "outputs": [],
   "source": [
    "class QueryExpandResponse(BaseModel):\n",
    "    expanded_query: List[str]"
   ]
  },
  {
   "cell_type": "code",
   "execution_count": 34,
   "id": "aad51639",
   "metadata": {},
   "outputs": [],
   "source": [
    "@traceable(\n",
    "    name=\"agent_node\",\n",
    "    run_type=\"llm\",\n",
    "    metadata={\"ls_provider\": \"openai\", \"ls_model_name\": \"gpt-4.1-mini\"}\n",
    ")\n",
    "def query_expand_node(state: State):\n",
    "\n",
    "   prompt_template =  \"\"\"You are part of a shopping assistant that can answer questions about products in stock.\n",
    "\n",
    "Instructions:\n",
    "- You will be given a question and you need to expand it into a list statements that can be used in contextual search to retrieve relevant products.\n",
    "- The statements should not overlap in context. Single item should not be expanded into multiple statements unless it is specifically mentioned in several contexts.\n",
    "\n",
    "<Question>\n",
    "{{ query }}\n",
    "</Question>\n",
    "\"\"\"\n",
    "\n",
    "   template = Template(prompt_template)\n",
    "   \n",
    "   prompt = template.render(\n",
    "      query=state.initial_query\n",
    "   )\n",
    "\n",
    "   client = instructor.from_openai(OpenAI())\n",
    "\n",
    "   response, raw_response = client.chat.completions.create_with_completion(\n",
    "        model=\"gpt-4.1-mini\",\n",
    "        response_model=QueryExpandResponse,\n",
    "        messages=[{\"role\": \"system\", \"content\": prompt}],\n",
    "        temperature=0.5,\n",
    "   )\n",
    "\n",
    "   return {\n",
    "      \"expanded_query\": response.expanded_query\n",
    "      }"
   ]
  },
  {
   "cell_type": "code",
   "execution_count": 35,
   "id": "dd48de9a",
   "metadata": {},
   "outputs": [],
   "source": [
    "def query_expand_conditional_edges(state: State):\n",
    "\n",
    "    send_messages = []\n",
    "\n",
    "    for query in state.expanded_query:\n",
    "        send_messages.append(\n",
    "            Send(\n",
    "                \"retrieve_node\",\n",
    "                {\n",
    "                    \"query\": query,\n",
    "                    \"k\": 10\n",
    "                }\n",
    "            )\n",
    "        )\n",
    "\n",
    "    return send_messages"
   ]
  },
  {
   "cell_type": "markdown",
   "id": "b7ba4687",
   "metadata": {},
   "source": [
    "#### Retriever Node"
   ]
  },
  {
   "cell_type": "code",
   "execution_count": 36,
   "id": "8ad4bafc",
   "metadata": {},
   "outputs": [],
   "source": [
    "@traceable(\n",
    "    name=\"embed_query\",\n",
    "    run_type=\"embedding\",\n",
    "    metadata={\"ls_provider\": \"openai\", \"ls_model_name\": \"text-embedding-3-small\"}\n",
    ")\n",
    "def get_embedding(text, model=\"text-embedding-3-small\"):\n",
    "    response = openai.embeddings.create(\n",
    "        input=[text],\n",
    "        model=model,\n",
    "    )\n",
    "\n",
    "    return response.data[0].embedding\n",
    "\n",
    "@traceable(\n",
    "    name=\"retrieve_top_n\",\n",
    "    run_type=\"retriever\"\n",
    ")\n",
    "def retrieve_node(state: State) -> dict:\n",
    "\n",
    "    qdrant_client = QdrantClient(url=\"http://localhost:6333\")\n",
    "\n",
    "    query_embedding = get_embedding(state[\"query\"])\n",
    "\n",
    "    results = qdrant_client.query_points(\n",
    "        collection_name=\"Amazon-items-collection-01-hybrid-search\",\n",
    "        prefetch=[\n",
    "            Prefetch(\n",
    "                query=query_embedding,\n",
    "                using=\"text-embedding-3-small\",\n",
    "                limit=20\n",
    "            ),\n",
    "            Prefetch(\n",
    "                query=Document(\n",
    "                    text=state[\"query\"],\n",
    "                    model=\"qdrant/bm25\"\n",
    "                ),\n",
    "                using=\"bm25\",\n",
    "                limit=20\n",
    "            )\n",
    "        ],\n",
    "        query=FusionQuery(fusion=\"rrf\"),\n",
    "        limit=state[\"k\"],\n",
    "    )\n",
    "\n",
    "    retrieved_context = []\n",
    "    retrieved_context_ids = [] \n",
    "    retrieved_context_ratings = []\n",
    "\n",
    "    for result in results.points:\n",
    "        retrieved_context_ids.append(result.payload[\"parent_asin\"])\n",
    "        retrieved_context.append(result.payload[\"description\"])\n",
    "        retrieved_context_ratings.append(result.payload[\"average_rating\"])\n",
    "\n",
    "    formatted_context = \"\"\n",
    "\n",
    "    for id, chunk, rating in zip(retrieved_context_ids, retrieved_context, retrieved_context_ratings):\n",
    "        formatted_context += f\"- ID: {id}, rating: {rating}, description: {chunk}\\n\"\n",
    "\n",
    "    return {\n",
    "        \"retrieved_context\": [formatted_context],\n",
    "    }"
   ]
  },
  {
   "cell_type": "markdown",
   "id": "7a62d718",
   "metadata": {},
   "source": [
    "#### Aggregator Node"
   ]
  },
  {
   "cell_type": "code",
   "execution_count": 37,
   "id": "a0b5d185",
   "metadata": {},
   "outputs": [],
   "source": [
    "class AggregatorResponse(BaseModel):\n",
    "    answer: str = Field(description=\"Answer to the question.\")"
   ]
  },
  {
   "cell_type": "code",
   "execution_count": 38,
   "id": "9fd374a9",
   "metadata": {},
   "outputs": [],
   "source": [
    "@traceable(\n",
    "    name=\"agent_node\",\n",
    "    run_type=\"llm\",\n",
    "    metadata={\"ls_provider\": \"openai\", \"ls_model_name\": \"gpt-4.1-mini\"}\n",
    ")\n",
    "def aggregator_node(state: State) -> dict:\n",
    "\n",
    "   preprocessed_context = \"\\n\".join(state.retrieved_context)\n",
    "\n",
    "   prompt_template =  \"\"\"You are a shopping assistant that can answer questions about the products in stock.\n",
    "\n",
    "You will be given a question and a list of context.\n",
    "\n",
    "Instructions:\n",
    "- You need to answer the question based on the provided context only.\n",
    "- Never use word context and refer to it as the available products.\n",
    "- The answer to the question should contain detailed information about the product and returned with detailed specification in bullet points.\n",
    "\n",
    "Context:\n",
    "{{ preprocessed_context }}\n",
    "\n",
    "Question:\n",
    "{{ question }}\n",
    "\"\"\"\n",
    "\n",
    "   template = Template(prompt_template)\n",
    "   \n",
    "   prompt = template.render(\n",
    "      preprocessed_context=preprocessed_context,\n",
    "      question=state.initial_query\n",
    "   )\n",
    "\n",
    "   client = instructor.from_openai(OpenAI())\n",
    "\n",
    "   response, raw_response = client.chat.completions.create_with_completion(\n",
    "        model=\"gpt-4.1-mini\",\n",
    "        response_model=AggregatorResponse,\n",
    "        messages=[{\"role\": \"system\", \"content\": prompt}],\n",
    "        temperature=0.5,\n",
    "   )\n",
    "\n",
    "   return {\n",
    "      \"answer\": response.answer\n",
    "   }"
   ]
  },
  {
   "cell_type": "markdown",
   "id": "d38d8fc0",
   "metadata": {},
   "source": [
    "#### Graph"
   ]
  },
  {
   "cell_type": "code",
   "execution_count": 39,
   "id": "8c751209",
   "metadata": {},
   "outputs": [],
   "source": [
    "workflow = StateGraph(State)\n",
    "\n",
    "workflow.add_node(\"query_expand_node\", query_expand_node)\n",
    "workflow.add_node(\"retrieve_node\", retrieve_node)\n",
    "workflow.add_node(\"aggregator_node\", aggregator_node)\n",
    "\n",
    "workflow.add_edge(START, \"query_expand_node\")\n",
    "workflow.add_conditional_edges(\"query_expand_node\", query_expand_conditional_edges)\n",
    "\n",
    "workflow.add_edge(\"retrieve_node\", \"aggregator_node\")\n",
    "workflow.add_edge(\"aggregator_node\", END)\n",
    "\n",
    "graph = workflow.compile()"
   ]
  },
  {
   "cell_type": "code",
   "execution_count": 40,
   "id": "15989c5c",
   "metadata": {},
   "outputs": [
    {
     "data": {
      "image/png": "[encoded data removed]",
      "text/plain": [
       "<IPython.core.display.Image object>"
      ]
     },
     "metadata": {},
     "output_type": "display_data"
    }
   ],
   "source": [
    "display(Image(graph.get_graph().draw_mermaid_png()))"
   ]
  },
  {
   "cell_type": "code",
   "execution_count": 41,
   "id": "4f96b1cb",
   "metadata": {},
   "outputs": [],
   "source": [
    "initial_state = {\n",
    "    \"initial_query\": \"Can I get a tablet for my kid, a watch for me and a laptop for my wife?\"\n",
    "}\n",
    "result = graph.invoke(initial_state)"
   ]
  },
  {
   "cell_type": "code",
   "execution_count": 42,
   "id": "62ccf1c6",
   "metadata": {},
   "outputs": [
    {
     "data": {
      "text/plain": [
       "{'expanded_query': ['tablet for kids', 'watch for adults', 'laptop for women'],\n",
       " 'retrieved_context': ['- ID: B0C3XYD574, rating: 4.4, description: ROWT Tablet for Kids 10 inch Kids Tablet 2GB RAM 32GB ROM Android 11 6000mAh Wi-Fi, Bluetooth, Kid-Proof Case(Blue) 【Kids\\' Safety & Parental Controls】Looking for a safe tablet that\\'s easy for your kids to use? This 10-inch tablet for kids is GMS-certified, has password protection, a content filter, and a one-button lock screen, making it easier for parents to keep an eye on their kids activities and learning. 【Creative Educational Content】Our kids tablet provides access to a range of age-appropriate creative kids content such as drawing, educational games, eBooks, learning videos, math tools, and much more! Learning through play is best for kids to understand the world. 【Powerful Configuration & Full Access to Google】This Android 11 kids tablet has an HD 1280x800 IPS touchscreen, 1.6 GHz Quad-Core processor, 2GB RAM & 32GB ROM storage, dual cameras, and a large battery with 6000mAh capacity. You have full access to Google Play to download the latest apps such as Gmail, Disney+, Youtube, and many more. 【10.1\" Large Screen + Eye Protection】This kids tablet is designed with a 10.1-inch large HD screen. The screen is designed to produce less glare and provide more clarity and brightness. It helps protect your eyes by reducing damage from blue light, letting your child be safer and more comfortable while using the tablet. 【Durable Kid-proof Case】Designed to be easy to use, this 10-inch large yet portable kids tablet includes a protective case with a built-in stand to protect the kids tablet from scratches and bumps. This kids tablet is a great gift for birthdays, Christmas, holidays, and more.\\n- ID: B0B8NVNQKX, rating: 3.6, description: COOPERS 7 inch Kids Tablet Android 11 Tablet for Kids, 2GB RAM + 32GB ROM Toddler Tablet PC for Children, IPS Touch Screen, Dual Camera, Dual Speaker, WiFi Computer Tablet, Light Blue ✿【Good Kids tablet】This 7 inch tablet for kids with silm body and lightweight, it is easy to hold by children. Also the special design can protect the tablet well when dropping. ✿【Parental Control】Toddlers Tablet with parent mode can add or block apps. Set screen time limits. This tablet come with iwawa app. kids can get access to fun and educational games and videos. ✿【Powerful Tablets】Equipmented with quad core CPU, Android 11.0 System, 32GB Big Storage, 1024*600 IPS Screen offer a clear view. Runs Kinds of apps and game for kids smoothly. ✿【Long Lasting】Tablet for kids built with large capacity battery. For mixed use up to 6 hours. You can enjoy happy parent-child time with your kids. ✿【Best Gift】This high performance Children tablet is designed specially for kids. Best gift choice for Christmas, New Year, Easter, Birthday and school supplies. Pacakge come with 1* tablet, 1* charger, 1* cable\\n- ID: B0BRXZDBXZ, rating: 3.7, description: Kids Tablet, 7 inch Tablet for Kids 3GB RAM 32GB ROM, Android 11 Toddler Tablet with WiFi, Bluetooth, GMS, Parental Control, Shockproof Case, Google Play, YouTube, Netflix 【iWawa APP with parental control】This kids tablet has passed the GMS certification and is pre-installed with the iwawa app, specially designed for children. It has password control, remote video control, one-button lock screen and Learning, art, smart games. New-upgrade kids online school, fun interaction, video playback 【Android 11.0 & 128 GB Expand】Android 11.0 operating system, 3GB RAM 32GB ROM, support WiFi, Bluetooth, GPS, etc. The HD 1024*600IPS display can offer a perfect experience, You can expand the storage to 128 GB of SD cards for storing photos, music and videos. The upgraded battery can last more than 6 hours, suitable for long-distance flights or road trips, Appropriate Age Grade Over 3 years old kids 【Kids Tablet with Case】The sturdy tablet case can protects your kids tablet. A colorful handle and a adjustable stand on the back of case allows toddlers to go hands-free while learning, watching and playing games, don\\'t need to hold 【Ideal gift for Kids】You can download different apps from the Google Play store, such as ABCMouse, HULU, YouTube Kids, Netflix, Zoom. Kids can explore the new-world, search for new-knowledge. The toddler tablet is an ideal gift for birthday, Christmas, holiday season for kids. Help your child develop in an all-around way 【5-year Warranty】Our kids tablet offers a 5-year warranty and Lifetime customer service, we will answer your any questions within 24 hours. Package includes：1 x Tablet PC, 1 x Protective Silicone Case, 1 x screen protector , 1 x OTG cable, 1 x Data Cable, 1 x User Manual\\n- ID: B0C772GZRF, rating: 4.3, description: Paxodo Kids Tablet, 10 inch, Android 10 Tablet PC, 6000mAh, 32GB ROM, Quad-Core, HD Dual Camera, WiFi, Parental Control, Kid-Proof Case (Blue) 🛫【High Performance Kids Tablet】Paxodo Kids Tablet uses Android 10 operating system, and has a built-in 1.6GHz high-performance quad-core CPU, 2G RAM, 32G ROM, Faster than other tablets. 🛫【Rich Application Resources】Full-featured tablet. With GMS certification, Download apps from Google Play Store, Gives you the best resources for learning and entertainment. 🛫【Parental Control Mode】Has a great parental control mode that allows for time limits, educational goals, filtering of age appropriate content ……,To create a safe online environment for kids. 🛫【Eye protection HD screen】Features a premium IPS 1280x800 HD screen. Designed with low blue light technology. Enter reading mode with one click, helping be safer and more comfortable. 🛫【Battery Capacity & Kid-proof Case】Has a large built-in 6000 mAh battery, giving up to 5 hours of daily use with a single charge. It\\'s convenient for long flights, camping, and road trips.\\n- ID: B0BL2CZSHT, rating: 4.7, description: All-New 10and 10 Plus 2021 Tablet Case for Kids, Ubearkk Adult & Kids Friendly Light Weight Shock Proof Kid-Proof Back Cover Compatible 101h Generation 2021 Model Compatibility- Designed for All-New ＨＤ 10 & ＨＤ 10 Plus Tablet & ＨＤ 10 Kids Pro Tablet Latest model(Only compatible with 11th Generation, 2021 Release). NOT Fit for other generations. Kids-proof Case-Made with dense heavy duty EVA foam material can withstand considerable wear and tear and provide extreme shock protection. Super light weight and durable hazard free safe material perfect for kids and grownups alike. Built-in Kickstand - Designed with a foldable kick-stand on the back of the case, allows you to set up multiple angles and gives you the hands-free convenience when watching videos and movies. Precise cutouts- Full access to all ports, buttons, and cameras, speakers and rear-camera without removing the tablet case. What You Get- Tablet case x 1.(The tablet is not included, and NO screen protector included). If you encounter any problems, please feel free to contact us.\\n- ID: B0BN7WWH63, rating: 4.5, description: All-New Fire HD 8 Tablet Case, Fire Tablet 8 &8 Plus Case for Kids (Compatible 2022 & 2020 Release) - Auorld Kid-Proof Light-Weight Case for Fire HD 8 inch Tablet, Blue Tablet 8 Kids Case design specifically for all-new 8 inch Tablet and 8 Plus Tablet(12th/10th Generation, 2022/2020 Release), NOT fit for other models. Made with dense heavy duty EVA foam, material can withstand considerable wear and tear and provide extreme shock protection. Super lightweight and durable hazard free safe material perfect for kids and grownups alike PRECISE OPENINGS-Cutouts for easy access to all-new 8 inch tablet & 8 plus tablet buttons, ports, speakers and rear-camera. When installing, remove the black frame first.Raised screen bezel edges for extra protection when fall Special rear pattern with raised supports for grip and drop protection in a honey comb design. Anti-slip side grip feature with ergonomic grip supports What You Get: 1x tablet case,friendly customer service. Accessory: the tablet don\\'t be included, NO screen protector included\\n- ID: B08CGM6Y1J, rating: 4.6, description: 8in Tablet Case for Kids (12/10th Generation, 2022/2020 Release), OQDDQO Light Weight Anti Slip Shockproof Kids Friendly Case for 8 inch Tablet (Black) New Design: Specially designed for All-New tablet 8 case (8in tablet 12/10th Generation, 2022/2020 Release), Compatible with 8 Plus case. Note: Not applicable to other tablets Super protection: With a protective layer of 1.5mm thickness, it is designed for double airbags with four corners for safer and more effective protection. Comfortable touch: side non-slip texture, 3D texture on the back, high-quality EVA material, very comfortable hand. Precise incision: All Ports, buttons and speakers have precise cut-outs for Easy access. we gift to you extra two wrist ropes to prevent the tablet from accidentally falling causing damage. Warranty: If you have any questions or dissatisfaction with our products or services,please feel free to contact us we will be happy to help you.\\n- ID: B0B2P18Z31, rating: 4.2, description: DOQAUS Wired Headphones for Kids, Kids Headphones with Microphone & Volume Limiter & Shareport, Gift for Children/Girls/Boys/Teens, 3.5mm Jack for Cellphones/Computer/Kindle/Tablet/School/Travel(Pink) 【Pure Sound Quality】Relying on the 40mm driver unit and professional sound technology, DOQAUS Kids Headphones adopts the child\\'s special pronunciation frequency band, which is high-fidelity and high-definition, effectively avoids external interference, and creates a quiet and relaxing environment for kids. 【Safe Volume Control, Hearing Protection】With 3-level volume control (74dB/85dB/94dB) specially designed for children, our Wired Headphones for kids are suitable for children of all ages. The Kids Headphones wired can be limited to a sound level of 85dB to protect your child\\'s hearing, and also allow to reach 94dB, which can be heard clearly in noisy environments without damaging the hearing. 【Safe and Cmofortable Materials, Lightweight Design】DOQAUS Kids Earphones are made with kid-specific materials to protect kids\\' sensitive and delicate skin. The headphones weigh only 0.5lb. The soft ear cups have good breathability, so children won\\'t be uncomfortable even wearing them all day. Foldable design for easy portability and storage. 【In-line Microphone & Great Compatibility】The in-line microphone brings a clear calling experience, which is suitable for online study, voice and video calls, perfect for learning, entertainment, and travel. The Kids Headphones Wired support devices with a 3.5mm audio jack, such as iPad, Chromebook, Switch, Smartphone, Computer, Kindle, MP3/4, Fire Tablet, Study Tablet, Laptop, PC etc. 【With Shareport, Share the Moments】No splitter required! Kids can plug another headphone into the sharing jack to share audio with friends or family without splitters or special cables. The shared jack is located on the aux cable instead of the headphone, making it more flexible to use.\\n- ID: B0C142QS8X, rating: 4.5, description: TUNEAKE Kids Headphones, Over Ear Kids Headset Stereo, Volume Limited 94dB, Foldable Adjustable Headphones for Kids, 3.5mm Jack Kid Headphones for Boys Girls Toddler School Laptop Travel Tablet, Pink 🍀LISTENING VOLUME🍀: Designed with 94dB volume-limiting technology, kids headphones offer adequate hearing protection that your child cannot listen to music or watch videos at dangerously high levels. Kids headphones for school NOTE: NO microphone, but you can still speak into the device\\'s mic that you are plugged into and will hear you. 🍀KID-SIZED FOR COMFORT🍀: The padded headband and soft ear cups on the kids headphones boys provides a comfy fit for kids. The adjustable headband makes it well-suited to your child. With cushy, perforated mesh on the cushioned cups, your child\\'s head will not feel hot. 🍀FOR EASY STORAGE AND PORTABILITY🍀: Children\\'s headphones feature a folding design that can fold up to help reduce their size, easy to store in your child\\'s backpack. The earmuffs can be rotated by 90°for easy hanging on the neck. 🍀WIDE COMPATIBILITY🍀: A 3.5mm aux port including a 120cm cable gives you the option to connect directly to devices. Compatible with all Smartphones, Chromebooks, iPads, Tablets, Computers, Laptops, and all 3.5mm audio jack devices. 🍀FUN FOR KIDS🍀: Kids headphones wired has easy controls that can allow children to use them without any difficulty. Whether your little one needs school headphones for online learning, or just to jam out to their own tunes, finding the kid headphones for them is worthwhile. Lifetime Support, Easy to Reach Customer Service.\\n- ID: B09WVHZ4X8, rating: 4.6, description: Gerutek Galaxy Tab A8 10.5 Inch Case 2022, SM-X200/X205/X207 Case, Heavy Duty Shockproof Rugged Protection Cover for Samsung Tab A8 10.5 Case with 360 Rotatable Kickstand/Hand Strap 【Compatibility】Specially designed for Samsung Galaxy Tab A8 10.5 inch 2022/2021 Released, Models:( Models: SM-X200/X205/X207) Built-in pencil holder, full access to all buttons, ports and functions. 【Kids Samsung Galaxy Tab A8 Cover Shockproof & Drop-Proof】 3-layer structure provides your tablet in full body Protection against accidental Drop ,Scratch,Bump,impacts and Shock during daily use .10.5 inch samsung tablet case has 2 layer high quality PC shell,1layer soft silicone,so nice to touch.Unlike other fragile, thicker and softer silicone-wrapped 2-layer sturdy PC that on impact forms a cushion. 【Removable & Adjustable Shoulder Strap】Anti-skidding soft silicone with a wonderful touch feeling. Convenient Gerutek Samsung Galaxy Tab A8 case can free your hand that does what you want, even could hang it behind the headrest of a car seat for kids to watch the video. 【360° Rotating Hand Strap & Kickstand】 This full body protective tablet case can support in different viewing angles/drawing angles/typing angles, you can hold safely by one hand with the strap on the back of the case, which is convenient during meeting, working or reading. 360 Degree rotating Kickstand provides multi-angle viewing, with soft handle strap, easier to use your tablet in your outdoor travelling, working, gaming with kids. 【100% Satisfaction with After-sales Service】Highly practical and high protective \"Galaxy Tab A8 10.5 Inch case\".Packing stands up to accidental bumps and tumbles. Please don\\'t worry about the product. If not, Have any questions please do not hesitate to contact us through Amazon we will respond within one business day.\\n',\n",
       "  '- ID: B0BGLRMPQD, rating: 4.5, description: Monocular Telescope, 10x42 Monoculars for Adults, Usogood Compact Portable Waterproof Monocular with Hand Strap, Lightweight Handheld Pocket Telescope for Bird Watching 【10x42 High Definition and Comfortable Viewing】This monoculars for adults with a 42mm objective lens provide 10x magnification, which ensures that you can easily magnify the object with a stable view when observing handheld. With a large field of view of 360ft/1000yards, you can clearly see the mountains 1200 yards away. 【22.5 mm Extra Large Eyepiece, More Detail, Clearer and Brighter】Equipped with an oversized 22.5 mm eyepiece, this handheld monocular offers you a comfortable viewing experience. Including the BAK4 prism, all the lenses are fully multi-layer coated to reduce light loss by 99.99%, providing you with a brighter picture. 【Extremely Lightweight to Carrying Out, Multiple Carrying Options】This monocular comes with a hand strap and double lens covers, all that weighs less than 9 oz, which is light as your smartphone! Also comes with a soft case with a neck strap, so you can easily take it outside. Perfect for bird watching, deer watching, sporting events, etc. 【Mini Size, Handheld, One-finger Precision Focus】Different from other 12x50 monoculars, this compact monocular measures 5.8\\'\\' x 2.5\\'\\' x 2.1\\'\\'. You only need one hand to hold it securely, and never feel hand soreness. Designed with the double focus ring, you can easily get a sharp view by adjusting either of them. 【See From 3 Yards to Infinity With Clarity】The close focus distance of this small monocular is less than 3 yards. It not only helps you observe the flowers in your yard or the birds in the trees, but also easily brings the landscape thousands of miles away to your eyes, such as a volcano ready to erupt. Also comes with 30-day hassle-free money back guarantee and LIFETIME WARRANTY.\\n- ID: B09T7B55W3, rating: 3.1, description: JrTrack Cosmo 2 Kid’s Smartwatch | 4G Phone Calling & Text Messaging | GPS Tracker Watch for Kids | Pre-Installed SIM Card & Flexible Cosmo Data Plans | Children’s Phone Alternative (Purple) GPS TRACKER WATCH FOR KIDS – COSMO’s JrTrack 2 4G Smartwatch is the best-selling phone alternative for kids ages 5-12. Whether your kids are walking to school, playing with friends, at sports practice, or other activities in between, have peace of mind knowing they are safe and secure. With two-way calling and custom text messaging, 3-point verification GPS tracking, and other safety features, it is the perfect solution to keeping your kids safe and connected. PRE-INSTALLED SIM CARD & FLEXIBLE DATA PLANS – Every JrTrack 2 comes with a pre-installed SIM card & must be activated by purchasing a flexible & affordable COSMO Connect plan, which starts at $14.99/mo. You’ll receive unlimited talk & text, access to the Mission Control Parent App, & powerful safety features, that all operate through our family-safe nationwide network, perfect for urban & suburban areas. Our customer service team is available for any help you may need along the way. MISSION CONTROL GUARDIAN APP – Our data plan comes with access to the Mission Control Guardian App that allows you to manage calling, messaging, GPS tracking, safe zones, approved contact lists, & more, all from the palm of your hand. Having a child grow up in the digital age is hard enough, let us make it easy for you to stay connected while giving your kid independence without compromising their safety. SAFELY STAY CONNECTED – COSMO’s software is firewalled against internet browsing, social media, and adult content. Our GPS functionality is equipped with helpful custom safe zones that will send you periodic alerts as they enter or leave designated areas making our watch the perfect safety gadget. Your data security and privacy are our top priority. Our device is 100% COPPA compliant, safety tested, and operates on the highest-grade data security standards. ADDITIONAL FEATURES – With 2-way communication, touch screen, texting keyboard, voice calling, live GPS tracking, safety zones, pedometer and more, COSMO’s JrTrack 2 is the perfect first device for your child. Your kids will love the front facing camera so they can capture and share special moments and you will love the class mode setting so you can block out distractions during the hours you set.\\n- ID: B0CH6P8DYF, rating: 4.3, description: New 2023 80x100 High Powered Monoculars for Adults high Powered BAK-4 Prism and FMC Lens Monocular Telescope for Smartphone Monoculars for Bird Watching/Wildlife/Hunting/Hiking 【80x100 High Power Monocular】100 mm object diameter monocular, 80 times magnification. Using optical technology, this monocular uses a fully coated lens to ensure excellent light transmittance and image brightness, provide images with high definition, high quality and high color saturation. 【Compact Monocular】Compact and light monocular brings you the distant scenery by adjusting the eye cup and focusing wheel. The monocular is small and easy to carry, and can also obtain stable and clear images with one hand. 【High Definition And Super Bright View】This monocular with FMC Superior BAK4 prism lens, which can greatly reduce light loss and get greater magnification with a brighter and clearer field of view. 【What you will get in Package】Monocular telescope, Tripod, Dust bag, Lanyard, Instructions, Phone Hold. With a phone adapter and a tripod, you can take clearer and more beautiful photos outdoors at any time, capture the wonderful moments and share with your friends. 【The Most Valuable Gift】Perfect Gift for Camping, Hunting, Outdoor gear, Travel, Cruise accessories, Bird Watching, Sports, Football, Soccer. The monocular provides the broadest and most natural view and is an ideal gift for friends and family.\\n- ID: B09SPBM7D3, rating: 4.0, description: Smart Watch for Women, Blackview 24 Sports Modes, Heart Rate Monitor, Fitness Activity Tracker Smartwatch, Blood Oxygen SpO2, IP68 Waterproof, Calorie Counter, R5 for Phone & Android Phones, Orange ❤️【24/7 Heart Rate Monitor & Sleep Tracker】Blackciew R5 fitness tracker checks your heart rate anytime and makes you better understand your health trends. automatic sleep tracking your deep, light, and awake sleep patterns, and provide a comprehensive analysis of your sleep quality (deep sleep, light sleep and wake up time) to help you get a better understanding of your health and make reasonable adjustments to your lifestyle. ⌚【Unique Personalized Watch Faces & Practical Functions】Blackciew fitness tracker watch can DIY watch face, making it a unique Christmas or birthday gift in the world. The waterproof fitness tracker includes many practical functions, Call Notifications, SMS and APP Messages (WhatsApp, Facebook, Messenger, Instagram...), (Note: cannot make calls and reply messages). Music and Camera Control, Brightness Adjustment, Weather Display, Alarm Clock, Stopwatch, Call Rejection, Find Phone, Find Watch. 🏃【Tracks Daily Activities】The smart watch with 24 sport modes records your all-day activities, including steps, distance, calories, female cycle tracking, sedentary reminder, and other health functions. Besides, SpO2 measures the level of oxygen saturation in the blood , help achieve total fitness management from your wrist. 🔋【Long Battery Life & IP68 Waterproof Smartwatch】One full charge only takes 2.5 hours maximum gives up to 9-15 days of working time, thanks to its large capacity and low power consumption design. Blackview Smart Watches are designed with IP68 waterproof rating, It can protect from splashes, rain and sweat. 🎁【Compatibility & 100% Refund Guarantee】Blackview R5 is compatible with most iOS 9.0 and Android 4.3+ smartphones. This health tracker watches can be a good choice for men, women, kids, parents, children, lovers. If you encounter any problems during use, please contact us. We provide 24 hours service and one-year quality guarantee, and we promise to return your money if you are not satified with your purchase. Buy without risk!\\n- ID: B0BNPVBZPG, rating: 3.6, description: Smart Watch for Men Women (Make/Answer Call), Fitness Tracker for Android and iOS Phones with Heart Rate Sleep Tracking for Health, Waterproof Large Screen Smartwatches Monitor Pedometer(Black) ⌚【Smart Watch with Text and Call Reminder for Timely 】: When the Bluetooth of the watch and the mobile phone is connected, you can directly dial the phone number on the screen or answer the phone. Information is also displayed on the smartwatch simultaneously. No matter where you are, you can easily view your messages. The smart watch will never let you miss an important call or message. The smartwatch also has a sedentary reminder to remind you to sit too long and to drink water. 💧【Fitness Tracker Watch for Men and Ladies 】: The health smart watch can set more than 20 sports modes: running, cycling, mountain climbing, yoga, skipping rope, etc. The fitness watch provides you with daily health analysis and improvement reference data. The tracking watch records daily steps, calories burned, distance traveled, and more. These training modes can help you achieve your fitness goals and are your fitness companion! Make your exercise routine more effective and beneficial. ⌚【Watch Heart /Sleep Rate Monitoring】: The smart watches for men and women uses smart algorithms to monitor heart rate, and the wrist optical sensor captures heart rate variability, taking care of your physical and mental health. The sleep monitor will track your deep sleep and light sleep time at night, and you can get a better understanding of your sleep quality on health smartwatches and apps. The scientific sleep monitor helps you analyze your sleep status by recording. 💧【Long-Lasting Battery and Waterproof Smartwatch】: The smartwatch is waterproof and protected from damage by rain or sweat. This means you don\\'t need to take it off when you wash your hands or shower. (Note: Do not immerse the watch in seawater or hot water) The android iphone smart watch has a large battery and a short charging time. You can use it for up to a week or more on a single charge. Even connecting bluetooth to the mobile phone will not cause the watch to consume a lot of power. ⌚【Great Gift Smartwatch with Big Screen】: The smartwatch is compatible with iOS 9.0/Android OS 5.0 or later smartphones. The high-quality metal frame is matched with a full-touch color screen, bringing a comfortable touch and an excellent visual experience. The smartwatch is also the best choice for a gift, you can give it to your parents, lover, or friends for Christmas and birthday gifts. If you have any problems, you can contact our customer service, we will solve all your problems for you!\\n- ID: B0BL2CZSHT, rating: 4.7, description: All-New 10and 10 Plus 2021 Tablet Case for Kids, Ubearkk Adult & Kids Friendly Light Weight Shock Proof Kid-Proof Back Cover Compatible 101h Generation 2021 Model Compatibility- Designed for All-New ＨＤ 10 & ＨＤ 10 Plus Tablet & ＨＤ 10 Kids Pro Tablet Latest model(Only compatible with 11th Generation, 2021 Release). NOT Fit for other generations. Kids-proof Case-Made with dense heavy duty EVA foam material can withstand considerable wear and tear and provide extreme shock protection. Super light weight and durable hazard free safe material perfect for kids and grownups alike. Built-in Kickstand - Designed with a foldable kick-stand on the back of the case, allows you to set up multiple angles and gives you the hands-free convenience when watching videos and movies. Precise cutouts- Full access to all ports, buttons, and cameras, speakers and rear-camera without removing the tablet case. What You Get- Tablet case x 1.(The tablet is not included, and NO screen protector included). If you encounter any problems, please feel free to contact us.\\n- ID: B0BWN4MYDK, rating: 4.1, description: Smart Watch (Bluetooth Call Recevive/Dial), 42mm Full Touch Screen Fitness Tracker, IP68 Waterproof Watch with Heart Rate,Blood Oxygen, Smartwatch for Men Women and Compatible with iOS Android Phones Large LCD-TFT Color Screen: With a 1.69-inch screen and LCD-TFT display technology, this smart watch offers a clear and vibrant visual experience, making it easy to read messages, view notifications, and track your fitness data. Express more of yourself with editable watch faces & widgets - or customize with your photos. Bluetooth Calling & Answering: With the ability to connect to your smartphone via Bluetooth, this watch can make and receive calls and display notifications from your phone. Please kindly note: you\\'ll need to keep your phone and watch connected for these features to work. 100 Sport Modes Fitness Tracking: With 100 different sports modes to choose from, you can monitor your workouts in a variety of activities, including running, cycling, swimming, and more. The smartwatch also tracks your steps, distance, and calories burned in real-time, helping you to stay on top of your fitness goals. Comprehensive Health Monitoring: With continuous heart rate monitoring and sleep tracking, this watch provides a holistic view of your health. It can analyze your sleep patterns, including deep sleep, light sleep, REM sleep, and wake-up time, helping you to improve your sleep quality. The watch also features a blood oxygen monitoring function, which can help you to understand your body\\'s oxygen levels. Water-Resistant Design: With an IP68 waterproof rating, this pedometer watch is designed to withstand splashes, rain, and even swimming, so you can wear it worry-free during your daily activities. Long Battery life: With the 290mAH battery capacity, the watch can be used for 7-10 days after being fully charged. This fitness watch can keep up with your active lifestyle without requiring constant charging. Additional Features: Our fitness tracker also includes other functions, including Brightness, female period reminders, music control, camera control, weather forecasting, timers, stopwatches, and drink water reminders. Smart Watches for Men Women.\\n- ID: B0BM9MTSH2, rating: 4.0, description: Smart Watch, Touch Screen Smartwatch for Android Phones, Fitness Tracker with Heart Rate and Sleep Monitor, Waterproof Pedometer Watch Activity Tracker with Step Counter for Men Women 1.69\" Full Touch Colour Screen and Customized Wallpaper: Smart watch for men and women is equipped with a large 1.69” TFT color screen with a 240 x 280 resolution, allowing you to view watch data more clearly and intuitively. Smartwatch has 100+ multiple watch faces to choose from and you can customize the watch face to show your personality. The sports watch comes with a TPU skin-friendly strap that allows your wrist skin to breathe. 25 Sports Modes and All-day Activity Data Tracking: Men’s smart activity tracker watch has 25 sports modes (walking, running, cycling, skipping, badminton, basketball etc.). So this fitness watch can meet your needs for recording daily exercise data, and provide related data (like steps, calories, exercise duration and sports goal reminder) for your daily health. Also, connecting the GPS on your cellphone can show run status like pace, miles, calories and record a map of your workout route. 24/7 Real Time Heart Rate and Sleep Monitor: Smart watches adopt the high-performance sensors monitor and use an intelligent algorithm to track 24 hours heart rate, paying attention to your physical health. Sleep monitor tracks your sleep stage data in deep sleep, light sleep, real sleep time through a comprehensive analysis of sleep quality data to help you grasp the health information better and achieve a healthier and self-discipline lifestyle. (Watches cannot be used for medical purposes.) Multifunction Smart Watch and Smart Notifications: Lrecat smart watch includes more practical functions, fitness tracker (pedometer, calories, miles), stopwatch, timer, vibrating alarm clock, calculator, blood oxygen monitor, coming-call notifications, SMS and APP messages (WhatsAPP, Facebook, Messenger, Instagram...) notifications, weather notification, music&camera control, brightness adjustment, sedentary&drinking water&period reminder, find watch etc. IP68 Waterproof and Wide Compatibility: IP68 waterproof design makes you wear the android watch in any environments with no worry, such as when you washing hands, sweating. (Water vapor and sea water can cause corrosion to the sensor chip.) This smart bracelet is compatible with any smart phones that use iOS 9.0/Android 4.0 or above and supports 17 kinds of languages. It only takes 1.5 hours to charge and can be used for up to 7 days. ( It is recommended to turn off rarely used functions to save battery life. )\\n- ID: B0BWVD7KZG, rating: 3.9, description: Smart Watch for Men Women, 1.69\" Full Touch Screen Fitness Tracker with Heart Rate and Sleep Monitor, Activity Tracker with IP68 Waterproof Pedometer Calorie, Fitness Watch for Android and iOS Phones Multiple Function Smart Watch: This smartwatch includes more practical functions, activity tracker (pedometer, calories, distance), heart rate monitor, sleep tracker, 8 sports modes, call notifications, sms and app messages (whatsapp, facebook, Twitter, instagram ...), camera and music controller, sedentary reminders, weather, alarm clock reminder, stopwatch, women\\'s menstrual cycle, find your watch ect. 24/7 Heart Rate Monitor and Sleep Tracker: Our smart watch can monitor your heart rate and measure your SpO2 oxygen saturation in real time and understand your health status at anytime. Activity trackers can record your deep, light, and awake sleep patterns, and track your sleep quality status to get a better understanding of your health and and make reasonable adjustment on your lifestyle. What\\'s more, you can view historical data in the app “Da Fit”. Support 8 Sports Modes and IP68 Waterproof: Our fitness trackers feature 8 built-in sports modes, allowing to satisfy sports enthusiasts whether indoors or outdoors. It will record exercise data when you workout, track your daily steps, distance and calories consumed. Aslo with the technology of ip68 waterproof, the smart watch will not be damaged even if you wash your hands, bathe and swim while wearing the fitness watch (Notice: not suitable for diving, swimming or sauna). Long Battery Life and Exclusive Wallpapers: The large battery capacity (230mAh) and low power consumption design offers longer endurance. It supports 7 days of normal use and 30 days standby time, so Jugeman smartwatches are very suitable for outdoor sports, workouts whole day! Also, easily switch your look from one to another with the latest collection of watch faces, also you can customize the watch face and create your style. Smart Notifications and Compatibility: Download and install free \"Da Fit\" APP, bind this watch in your cell phone, you can receive alerts of calendar, incoming calls, SMS, APP notifications and SNS (Messenger, WhatsApp, Twitter, Instagram, etc) and preview the messages. The sport watch is compatible with iOS 9.0 and Android 5.0 and above smartphones.\\n- ID: B09W9DV8PX, rating: 4.7, description: 50pcs Japanese Anime Nana Stickers Waterproof Vinyl Kawaii Stickers for Kids Teens Adult Skateboard Computer Laptop Guitar (Nana Anime) 50pcs Japanese Anime Nana Stickers Waterproof Vinyl Kawaii Stickers for Kids Teens Adult Skateboard Computer Laptop Guitar (NANA Anime) PVC vinyl waterproof stickers, with sun protection and waterproof function, 2-4 inch. Tear off no residue, can rest assured to use. Make your item personality like! Get your cute anime stickers, clean the surface, then use your imagination create works now! Cute Japanese stickers are perfect to personalize Laptops, Macbook, Skateboards, Luggage, Cars, Bumpers, Bikes, Bicycles, Bedroom, Travel Case, Motorcycle, Snowboard and so on. Amazing Assortment of funny stickers, a best gift for your kids, friends, lovers in Children\\'s Day, Christmas, Birthday, Valentine\\'s day and other festivals. Cute Japanese stickers are perfect to personalize Laptops, Skateboards, Luggage, Cars, Bumpers, Bikes, Bicycles, Bedroom, Travel Case, Motorcycle, Snowboard and so on.\\n',\n",
       "  '- ID: B0BKG66J4N, rating: 4.6, description: Kuosdaz Travel Laptop Backpack for Women Men, 15.6 Inch Quilted Work Backpack Purse with USB Charging Port, Large Anti-theft TeacherBook Bags, Casual Daypacks, Army Green(over 3 years old) Fashion Green & Gold Water-resistant Material: Green backpack for women is made of fashion stitch texture polyester waterproof fabric and gold-plated zipper on the outside, and tear-resistant material on the inside for durability. The top of the Laptop backpack is equipped with a comfortable PU leather handle, which is easy to carry and adds a fashion feel. Large Capacity Backpack with Laptop Compartment: The size of Kuosdaz Laptop Backpack for Women is: 17*12*7 inch, 25L. The laptop backpack has a total of 4 compartments and 2 side pockets - 1 padded 15.6 inch laptop compartment. 1 main compartment inside for your folders, books, clothes, etc., as well as other daily necessities. 2 front pockets can hold pens, sunglasses, charger, keys. Travel laptop backpacks keep everything organized. USB Charging Port : With an external USB charging port and built-in a charging cable inside, and there is a special pocket inside the laptop backpack to place the power bank (Note: power bank is not included), providing you with a more convenient way to use your mobile phone while walking or traveling. Laptop Backpack makes your trip and travel more convenient wherever you go. Anti-Theft Pockets & Luggage Strap: This work travel Backpack for women has an embeddable luggage strap that slides easily over your luggage/suitcase handle to relieve your back and shoulder pressure during use. The hidden anti-theft pocket on the back of the backpack for women can protect your smart phone, wallet, passport, other valuables from being lost for all basic daily needs for college, work, travel, hiking, business trips. Stylish Back Pack for All Occasions: This is a stylish computer daypack, ideal gift for granddaughter, daughters, friends, lover, teachers, womens. A great choice for office work backpack, travel backpack for women, bookbag, daily use basic backpack, nurse backpack, teachers backpack, all indoor and outdoor activities.Age: over 3 years old\\n- ID: B0BSGDCVND, rating: 4.6, description: Missnine Tote Bag Canvas Laptop Bag 15.6 inch Briefcase for Women Large Capacity Handbag for Office, School, Travel Canvas+Pu Leather Imported Polyester lining Zipper closure Large Capacity: The roomy structure can accommodate your work and life requirements. Spacious compartment with a padded laptop section for better protection of a 15.6\\'\\' computer and a tablet slot for a 10.9\\'\\' iPad, keep your tech product well-organized Multi-pockets: 8 pockets keeping all your items organized and within reach. Convenient exterior front pocket that is easy to access for your essentials. Main pocket with a zipper closure for extra safety, 1 interior zipper pocket, 2 open pockets and 2 pen slots for your necessities Durable & Sturdy: The water-resistant canvas fabric, decorated with PU leather, prevents it from getting wet on rainy days. 4 rivets on the bottom can effectively stabilize your items to protect the base from damage and against accidental impacts. Stylish & Practical: Carry the fashionable briefcase with the comfortable detachable strap, making it versatile as a shoulder bag, or a crossbody bag, which remains chic through all seasons. The exquisite metal hardware and prints keep the laptop bag elegant and professional. Gorgeous gift: The tote bag for women fits all kinds of occasions, and matches all styles of outfits. A great gift for your family, lover, friends, and yourself.\\n- ID: B0B68DHY1J, rating: 4.4, description: Laptop Keyboard Earbud Screen Cleaner Sprayer Kit for Airpods Pro MacBook iPad iPhone iPod, walrfid Electronics Airpod Cleaning Pen Brush Tool for PC TV Phone Computer - 5ml Screens Cleaners Spray 🌸 Multi-function Cleaner Kit: All-in-1 laptop and earbuds cleaning tool including Airpod cleaner pen with silicone nip, plastic nip, flocking sponge and brush, screen cleaner solution spray, high-density retractable keyboard brush with the true super microfiber fiber cloth, key puller, and soft plush glasses clean cloth. ✏️ Double Head Foldable Cleaning Pen for Airpod and Earbuds: Silicone and plastic nip clean that sticky and tough dirt hidden between crack and hole; Plush brush cleans the dust sticks on acoustic mesh, shallow holes, and crack; charging hole cleaning brush clean the dust and dirt hidden in those deep holes that you can’t reach out with fingers. 🖥️ Screen Cleaner Mist and microfiber fiber cloth for Electronics: They are cleaning, antistatic, and degreasing. Easy to remove the oil and fingerprint for the screen of cell phone, tablet PC, laptop, indicator, TV; the glass of eyeglasses, and the lens and camera. ⌨️ Retractable Brush and Key Remover for Clean Keyboard Keycap: Replacing keycaps and cleaning the bottom of the keyboard is no hassle with the simple key puller. The high-density brush is large and firm enough to clean flat surfaces such as keyboards and desktops with less labor. 🌸 Easy to Storage and Carry: The product fits smaller than the palm of your hand, making it an easy-to-carry size. Must-have computers, tablets, and laptops accessory for Men or Women. A good gift for students, teachers, office white-collar workers, photographers, and anyone who loves a gadget cleaning kit.\\n- ID: B08QS12HXF, rating: 4.3, description: LC-dolida Bluetooth Ear Warmers Winter Music Earmuffs Bluetooth Ear Muffs Built-in HD Speakers Wireless Ear Muffs Headphones Gifts for Men Women Kids for Skating Skiing Hiking ♫ HD High Fidelity Sound Music Experience- You can enjoy enhanced music listening experience with advanced digital sound by bluetooth ear muffs while staying your ear muffs. Delivered by high performance stereo loudspeaker driver, bluetooth ear muffs for men women allows you to focus on favorite music and answer calls. Bluetooth earmuffs fashion style design makes it a ideal gift or cool tech gadgets for men, women, boys, girls as a birthday gift, Christmas gifts, Thanksgiving Day\\'s gift. ♫ Bluetooth V5.2 Wireless Technology- The Latest Bluetooth V5.2 chipset strongly enhances audio and communications. The bluetooth ear muffs for men women connects stably with cell phones, tablets, laptop and other Bluetooth enabled devices up to 30 feet (10 meters) away.The simple 3-button Panel built-in stereo speaker and microphone, makes this musical knit cap easy to answer calls, play music, adjust volume without touching the phone ♫ Soft, Comfortable& Warm - Outside is high quality soft material, inside is comfortable plush .The bluetooth ear muffs ear warmers will keep you comfortable and warm all the winter. Shield the wind from ears without blocking sound. Perfect for cold winter casual, hiking, biking, skiing, hunting ♫ Longest Battery Life- With the built-in rechargeable Li-Ion battery, bluetooth ear muffs for men women are able to continuously play music more than 10 hours (depending on the volume and the distance from the source device) a quick charge of only 1-2 hours (Micro USB charging cable included) ♫ Foldable & Washable- Bluetooth ear muffs for winter men women fit all sizes and shapes, foldable adjustable, convenient and lightweight, portable. fully washable after removing the bluetooth control module and speakers out from both two ear pocket. Please make sure the bluetooth module is in the left when wearing\\n- ID: B0B62LR2YT, rating: 4.7, description: KIZUNA Laptop Bag Case 14 Inch shoulder sleeve Water Resistant Briefcase For 14\" MacBook Pro 2023/Lenovo Flex 14/14\" HP EliteBook 840 G5/HP Pro 14 G3/Dell Latitude 7490 5490/15\" Surface Laptop 3, Grey SIZE - Internal Dimension: 13.6\" x 10\" x 0.6\" / 34.5 x 25.5 x 1.5 CM, External Dimension: 14.8\" x 11.2\" x 0.8\" / 37.5 x 28.5 x 2CM. Proper fitment varies according to the size of devices. Please check the dimensions of your device before purchasing. COMPATIBLE WITH - 14\" MacBook Pro 2023/15\" Surface Laptop 3 / 14\" Lenovo Flex 4 6 14 / 14\" Ideapad 120s 520S / 14\" Thinkpad T480s T490 T490s / 14\" Lenovo Chromebook S330 / 14\" HP EliteBook 840 740 G5 / 14\" HP Pro 14 G3 / 14\" HP ProBook 640 G4 / 14.1\" Dell New Latitude 7490 5490 / 14\" Dell Chromebook 14 / 13.5\" Acer Chromebook Spin 13 Water-Resistant: Our sleeve Case made of soft water-resistant surface material which can protect your laptop from rain absorption, splash. EASY TO CARRY: You could use it as shoulder bag messenger bag and handbag. Considerate design is the back trolly belt for ease of use during business trips.Not only milti-funciton, but good-looking shape. Ultra Protection: Compared with other similar laptop case, Our bag features ultra-thick, lightweight protective cushioning inside to ensure your laptop will remain safe from drops, bumps, dents, scratches and spills\\n- ID: B0B1GXQ78F, rating: 4.3, description: DEOJOY Laptop Desk for Bed, Bed Table Bed Desk for Laptop and Writing, Computer Tray Laptop Stand for Bed or Sofa with Anti-Slip Leather, Book Stand , Without Drawer (Black) 💕【PERFECT DESIGN】 This laptop stand for bed is measured at 23.6\"(L)x15.7\"(W)x11\"(H). The middle part of the laptop bed tray has a slot design, which can be used to put phones or pads, tablets. Additional, there is a cup holder. You can put a drink or cup in it when you working on bed or sofa. 💕【FOLDABLE &SPACE SAVING】No assembly required, it‘s ready to go right out of the box.The foldable table legs make this foldable laptop bed table very portable and easy to store. This lap desk doesn\\'t take up too much space. 💕【MATERIAL ENVIRONMENTAL PROTECTION】Our portable laptop desk is crafted with durable medium-density fiberboard (MDF) and round aluminum alloy foldable legs with an anti-slip cushion, this no assembly bed desk is just a quick setup. Just open and adjust the legs, then start with your tabletop tasks. 💕【EASY TO USE】The foldable laptop desk for bed or sofa does not need to be installed and can be used directly when opened. The foldable laptop bed table mainly used for laptop workstation, laptop table for bed, a children\\'s bed table, a mini writing table, a standing table for office work, laptop couch table, or a book/tablet table, picnic table, etc. 💕【PACKAGE AND CUSTOMER SERVICE】1 x Lap Desk. If you have any dissatisfaction and problems with our products, please contact us immediately, we will reply within 24 hours.\\n- ID: B0BX85LFW8, rating: 4.3, description: Acer Aspire 5 A515-56-347N Slim Laptop - 15.6\" Full HD IPS Display - 11th Gen Intel i3-1115G4 Dual Core Processor - 8GB DDR4 - 128GB NVMe SSD - WiFi 6 - Amazon Alexa - Windows 11 Home in S Mode Powerful Productivity: 11th Generation Intel Core i3-1115G4 Dual Core processor delivers unmatched speed and intelligence, enabling impressive creating, productivity, and gaming experiences. With Turbo Boost Technology, get up to 4.1GHz for your high-demand applications. Connectivity Technology: Wi-Fi, Bluetooth, HDMI Visibly Stunning: Experience sharp details and crisp colors on the 15.6\" Full HD IPS display with 82.58% screen-to-body, 16:9 aspect ratio and narrow bezels. Ergonomic Typing: Ergonomically designed hinge lifts the keyboard for comfortable typing, improved cooling, and a better sound experience. Internal Specifications: 8GB DDR4 on-board memory (1 slot available); 128GB NVMe solid-state drive storage (1 hard drive bay available) to store your files and media Acer\\'s Purified.Voice technology, features enhanced digital signal processing to cancel out background noise, improve speech accuracy and far-field pickup, which not only makes calls clearer, but makes talking to Alexa easier than before. Using Alexa on your PC is as easy as asking a question. Just ask and Alexa can check your calendar, create lists, play music, answer questions, read the news and more. Secure Operating System: Windows 11 Home in S mode comes with advanced security features built right in, like protections against phishing and malicious software so you don\\'t have to think twice when navigating to a new webpage or downloading an app.\\n- ID: B0CFFGT7RM, rating: 4.3, description: Gifts for Men Who Have Everything, Gifts for Him, Smart Watch for Men, Fitness Tracker with Heart Rate Blood Pressure Oxygen Monitor iPhone Android Compatible Relojes Inteligentes para, 1.4\\'\\' Black 【Nice Gifts for Men】This fitness tracking smart watch for men is not only makes it easier to receive / make calls, but it is also a must-have for tracking health and monitoring your statue when doing exercise. Stylish appearance, high-grade packaging, very suitable as a healthy gift for mens from wife on sepical days. Anniversary brithday gifts for men who have everything, unique gifts for men, retire gifts for dad, basket gifts for men, boyfriends. 【All-Day Heart Rate Monitor】Built-in high-precision PPG sensor to track your heart rate 24 hours a day. This heart rate monitor watch can also save your resting heart rate data to help monitor long-term heart rate changes. The blood oxygen is measured using reflective-light based sensor on this blood pressure watches for men women. When you experience shortage of breath, weakness or dizziness. This heart rate monitor watch can only help you train your breath to calm you down. gifts for men him 【Intelligent Fitness Watch】This Blood Pressure Monitor Watch has many features you need for a better experience to gives you new ways to train and advanced. Supports 20 professional fitness modes including yoga and HIT, as well as 100 extended fitness modes , it accurately monitors and analyzes over multiple data points such as heart rate, steps, and calories burned, Black round men fitness watch for iphone android compatible, smart watch fitness tracker with heart rate blood pressure 【Smart Notification】You can get call, SMS text and SNS messages including Facebook,Twitter, WhatsApp, Linkedin, Messenger and more when this womens mens smart watches are synced to the smart phone. The smart watches for women receives messages, calls, and app notifications by getting a vibration alert on the watches device, also can answer/make call or answer text with this relojes inteligentes para mujer. gifts for him, gifts for men who have everything, mens gifts 【Your Watch, Your Style】1.4\"touch screen covered with a sturdy and anti-scratch frame, WalkerFit A2 Pro black round Blood Pressure Monitor Watch offers stylish and elegant design and 5 dials readily available to choose from, over 200+ Multiple trendsetting dial within the app. Smart watch for men women to match your mood and outfit of every different day. Even create and customize your smartwatches own faces from your phone gallery. Unique gifts for men,gifts for him who have everything 【Healthy Assistant】Equipped with a high-precision sensor, this heart rate monitor watch with monitor to tracks your heart rate 24/7 and measures blood oxygen levels using a wrist-based sensor. This heart rate monitor watch also monitors your calories burned during exercise, making this fitness tracker watch an essential tool for keep fit. It makes a great gift for your loved ones. This fwomens fitness watch Ideal for high-intensity workouts and sports such as marathons and gym workouts. 【Good Travel Companion】Effortlessly control your smartphone camera with just a wave of your hand to make photos by this heart rate monitor watch, perfect for capturing memories with family on a vacation. This smart watch fitness tracker for men women also includes weather forecasting for 7 days future to help you plan your travel route each day ahead with ease.good travel gifts for men, gifts for him, gifts for men who have everything. mens gifts 【Always-on Battery Life】Blood Pressure Monitor Watch With a battery life of up to a week and standby time of over 20 days, this fitness smartwatch with heart rate monitoring is designed to keep up with your active life. Its fast-charging feature and magnetic enhanced charging cable make powering up effortless. Smart watch fitness tracker for men women with heart rate monitor. Gifts for men who have everything, gifts for him. Anniversary gifts for men, husband gifts from wife, tech gfits for men 【Waterproof Fitness Watches】2023 Upgrade Blood Pressure Monitor Watch With IP67 waterproof, this fitness tracker watch can meet the waterproof requirements of your daily activities such as washing hands or working out in the rain with this heart rate monitor fitness tracker watch. Whether it\\'s sweat or a small splash, just handle it with ease. round black smart watches for women, reloj de mujer inteligente, relojes inteligentes para mujer.Gifts for men, gifts for him, anniversary gifts for him Blood Pressure Monitor Watch, Fitness Watch, Heart Rate Monitor Watch,Smart Watch for Men Women,2023 Upgrade. Blood Pressure Monitor Watch, Fitness Watch, Heart Rate Monitor Watch,Smart Watch for Men Women, WalkerFit 2023 Upgrade Waterproof SmartWatches Fitness Tracker with Blood Pressure iPhone Android Compatible, 1.4 Inch Round black.\\n- ID: B0C2C87FW3, rating: 4.6, description: DOMISO 17.3 inch Laptop Sleeve Case Water Resistant Shockproof Protective Computer Bag for 17.3\" Notebook/HP Pavilion Envy 17/IdeaPad/LG Gram/MSI with Accesory Bag,Navy Compatibile: External dimensions 44 * 31 * 3.5 cm (17.3 \"* 12.2\" * 1.4 \"); inner dimensions 43.5 * 30.5 * 3cm (17.1\" * 12 \"* 1.2\"). Compatible with: Dell alienware m15 r3 m17/Dell Inspiron 17 7000 Precision 17 XPS 17/HP Envy 17 HP Pavilion 17/Lenovo Legion 5/LG Gram 17/MSI ge75 gf75/ASUS ROG/Acer/MSI. High-quality Parts: DOMISO laptop bag is made of high-quality materials, the durable handle is stretchable, smooth zipper and two-way separating zip make it stuck free when using and provides you a comfortable use experience. Splash-proof: The exterior fabric adopts wearable, crease-resistant and splash-proof high quality Nylon fabrics, which that the product has high-grade appearance and ultra-strong protection. If water splashes on it, you just need to wipe the laptop bag up. The water will not penetrate into the bag and damage your laptop. Super Protection: The design of thickened ring strip at the edge of pad can protect your laptop even when it falls and bumps, the thick soft fluff material inside ensures the functions of anti-scratch, dust-proof and shock-proof of the bag. Extra Storage Space: The front pocket and accessory packet can store pens, mobile phones, data cables, chargers, mobile power supplies and other items, which provide you with sufficient storage space.\\n- ID: B0C6L1RC6Y, rating: 4.0, description: Sleep Headphones Bluetooth Sleeping Headband - Comfy Sleeping Headphones for Side Sleeper, Elastic Music Sleep Band Cozy ASMR Wireless Eye Mask Father\\'s Day Gifts for Dad from Daughter Son Wife Men Sleep Headphones & Sleep Mask & Sports Headband 3 in 1: HANPURE Bluetooth sleep headphones feature a soft waved edge headband design with wireless headset and mic inside, allowing you to block snoring and enjoy music while sleeping, blocking bright lights while having a snap, and avoiding being disturbed by your mess hair and sweat while doing sports. The stylish sleep headphones bluetooth headband is perfectly suitable for sleeping, air travel, nap, workout, gym, running, and yoga. Awesome Alternative to Earbuds, Perfect Sleeping Headphones for Side Sleepers: The speakers inside the super-comfy sleep band are flat and padded, making HANPURE sleeping headphones comfortable enough to wear while lying down or sleeping on your side. The upgraded design also avoids distracting beeps or bright lights when the battery runs out. Unique Bluetooth headband for nightly meditations, ASMR, white noise, audiobooks or your sleepy-time playlist.Tech gifts Bluetooth headbands for women men Fifth-generation Upgraded Patent Design for More Comfortable Wearing: HANPURE sleep headphones are designed with upgraded waved edge, fit snugly on your nose bridge and no squeeze at all, block out light and cover your ears totally. The considerate cutout is specially designed for you to take out or put back the electronic parts for washing. Such a great sleep headband is idea gifts for women and men as Birthday gifts, Valentine\\'s Day Gifts, Mothers Day gifts, Christmas Gifts Stocking Stuffers. Premium Battery Ensures 10 Hrs Excellent Audio Entertainment: HANPURE Sleep headphones are powered by an advanced rechargeable lithium battery which can last 10 hrs and ensure a whole night\\'s good sleep after 2 hrs of recharging. Wireless sleep headphones feature Bluetooth 5.2 version with quality chip, fast paring speed, less power consuming, ensure stable high fidelity sound. Ideal gifts for men women with tinnitus issues, college students,shared apartments,noisy roommates,and snoring spouses. Holiday Gift Guide, Gift Wrap Available - The must-have for stocking stuffers for women and men, gifts for mom and dad, guy gifts for women men, husband, wife, boyfriend, him, her, adult, stepfather, teens, brother, teenage boys, teenage girls, family, stepdad. Personalized gifts ideas such as Birthday Gifts, Valentine\\'s Day Gifts, Father\\'s Day Gifts, Mother\\'s Day Gifts, Thanksgiving Day gifts, White Elephant Gifts, Christmas Gifts, Stocking Stuffers, New Year Gifts, and Anniversary Gifts. Buy with Confidence: If you’re having trouble getting to sleep, you’re not alone. HANPURE sleep headphone is a comfortable pair of headphones designed specifically for comfortable sleeping, sports activities, travel, music beadband and more. Take this one-size-fit-most Bluetooth head band back home, fall asleep fast, stay asleep and have a sweet dream. If you have any questions about HANPURE sleeping headphones, please feel free to contact us and we will find the right solution for you!\\n'],\n",
       " 'initial_query': 'Can I get a tablet for my kid, a watch for me and a laptop for my wife?',\n",
       " 'answer': \"Yes, you can get a tablet for your kid, a watch for yourself, and a laptop for your wife from the available products. Here are some detailed options for each category:\\n\\nTablet for Kids:\\n- ROWT Tablet for Kids 10 inch\\n  - 10.1 inch HD 1280x800 IPS touchscreen\\n  - Android 11 OS\\n  - 2GB RAM, 32GB ROM\\n  - 6000mAh battery\\n  - Kid-proof case with built-in stand\\n  - GMS-certified with parental controls\\n  - Access to Google Play for apps like Gmail, Disney+, YouTube\\n  - Blue color\\n\\nSmartwatch for Adults:\\n- Blackview R5 Smart Watch\\n  - 24 sports modes\\n  - Heart rate monitor, sleep tracker, SpO2 blood oxygen\\n  - IP68 waterproof\\n  - Call notifications, SMS, and app message alerts\\n  - Long battery life (9-15 days)\\n  - Compatible with iOS 9.0 and Android 4.3+\\n  - Orange color\\n\\nLaptop for Wife:\\n- Acer Aspire 5 A515-56-347N Slim Laptop\\n  - 15.6 inch Full HD IPS display\\n  - 11th Gen Intel i3-1115G4 Dual Core Processor\\n  - 8GB DDR4 RAM\\n  - 128GB NVMe SSD\\n  - WiFi 6, Bluetooth, HDMI\\n  - Windows 11 Home in S Mode\\n\\nThese products should meet your needs for a child's tablet, a personal smartwatch, and a laptop for your wife.\"}"
      ]
     },
     "execution_count": 42,
     "metadata": {},
     "output_type": "execute_result"
    }
   ],
   "source": [
    "result"
   ]
  },
  {
   "cell_type": "code",
   "execution_count": 43,
   "id": "9bb77919",
   "metadata": {},
   "outputs": [
    {
     "name": "stdout",
     "output_type": "stream",
     "text": [
      "Yes, you can get a tablet for your kid, a watch for yourself, and a laptop for your wife from the available products. Here are some detailed options for each category:\n",
      "\n",
      "Tablet for Kids:\n",
      "- ROWT Tablet for Kids 10 inch\n",
      "  - 10.1 inch HD 1280x800 IPS touchscreen\n",
      "  - Android 11 OS\n",
      "  - 2GB RAM, 32GB ROM\n",
      "  - 6000mAh battery\n",
      "  - Kid-proof case with built-in stand\n",
      "  - GMS-certified with parental controls\n",
      "  - Access to Google Play for apps like Gmail, Disney+, YouTube\n",
      "  - Blue color\n",
      "\n",
      "Smartwatch for Adults:\n",
      "- Blackview R5 Smart Watch\n",
      "  - 24 sports modes\n",
      "  - Heart rate monitor, sleep tracker, SpO2 blood oxygen\n",
      "  - IP68 waterproof\n",
      "  - Call notifications, SMS, and app message alerts\n",
      "  - Long battery life (9-15 days)\n",
      "  - Compatible with iOS 9.0 and Android 4.3+\n",
      "  - Orange color\n",
      "\n",
      "Laptop for Wife:\n",
      "- Acer Aspire 5 A515-56-347N Slim Laptop\n",
      "  - 15.6 inch Full HD IPS display\n",
      "  - 11th Gen Intel i3-1115G4 Dual Core Processor\n",
      "  - 8GB DDR4 RAM\n",
      "  - 128GB NVMe SSD\n",
      "  - WiFi 6, Bluetooth, HDMI\n",
      "  - Windows 11 Home in S Mode\n",
      "\n",
      "These products should meet your needs for a child's tablet, a personal smartwatch, and a laptop for your wife.\n"
     ]
    }
   ],
   "source": [
    "print(result[\"answer\"])"
   ]
  }
 ],
 "metadata": {
  "kernelspec": {
   "display_name": ".venv",
   "language": "python",
   "name": "python3"
  },
  "language_info": {
   "codemirror_mode": {
    "name": "ipython",
    "version": 3
   },
   "file_extension": ".py",
   "mimetype": "text/x-python",
   "name": "python",
   "nbconvert_exporter": "python",
   "pygments_lexer": "ipython3",
   "version": "3.12.11"
  }
 },
 "nbformat": 4,
 "nbformat_minor": 5
}
