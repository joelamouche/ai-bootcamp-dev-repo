{
 "cells": [
  {
   "cell_type": "markdown",
   "id": "dbdf2ac6",
   "metadata": {},
   "source": [
    "### Import deps"
   ]
  },
  {
   "cell_type": "code",
   "execution_count": 48,
   "id": "eea08d74",
   "metadata": {},
   "outputs": [],
   "source": [
    "from pydantic import BaseModel, Field\n",
    "\n",
    "from langgraph.graph import StateGraph, START, END\n",
    "from langgraph.prebuilt import ToolNode\n",
    "\n",
    "from langchain_core.messages import AIMessage, ToolMessage\n",
    "from langchain_core.messages import convert_to_openai_messages\n",
    "\n",
    "from jinja2 import Template\n",
    "from typing import Literal, Dict, Any, Annotated, List\n",
    "from IPython.display import Image, display\n",
    "from operator import add\n",
    "from openai import OpenAI\n",
    "\n",
    "import random\n",
    "import ast\n",
    "import inspect\n",
    "import instructor\n",
    "import json\n",
    "\n",
    "from utils.utils import get_tool_descriptions, format_ai_message"
   ]
  },
  {
   "cell_type": "markdown",
   "id": "d577300f",
   "metadata": {},
   "source": [
    "### Single Node Graph"
   ]
  },
  {
   "cell_type": "code",
   "execution_count": 49,
   "id": "e13ed448",
   "metadata": {},
   "outputs": [],
   "source": [
    "class State(BaseModel):\n",
    "    message: str\n",
    "    answer: str = \"\"\n",
    "    vibe: str"
   ]
  },
  {
   "cell_type": "code",
   "execution_count": 50,
   "id": "929ef840",
   "metadata": {},
   "outputs": [],
   "source": [
    "def append_vibes_to_query(state: State) -> dict:\n",
    "\n",
    "    return {\n",
    "        \"answer\": f\"{state.message} {state.vibe}\"\n",
    "    }"
   ]
  },
  {
   "cell_type": "code",
   "execution_count": 51,
   "id": "a54396f1",
   "metadata": {},
   "outputs": [],
   "source": [
    "workflow = StateGraph(State)\n",
    "\n",
    "workflow.add_node(\"append_vibes_to_query\", append_vibes_to_query)\n",
    "\n",
    "workflow.add_edge(START, \"append_vibes_to_query\")\n",
    "workflow.add_edge(\"append_vibes_to_query\", END)\n",
    "\n",
    "graph = workflow.compile()"
   ]
  },
  {
   "cell_type": "code",
   "execution_count": 52,
   "id": "3fc49794",
   "metadata": {},
   "outputs": [
    {
     "data": {
      "image/png": "[encoded data removed]",
      "text/plain": [
       "<IPython.core.display.Image object>"
      ]
     },
     "metadata": {},
     "output_type": "display_data"
    }
   ],
   "source": [
    "display(Image(graph.get_graph().draw_mermaid_png()))"
   ]
  },
  {
   "cell_type": "code",
   "execution_count": 53,
   "id": "8078f705",
   "metadata": {},
   "outputs": [],
   "source": [
    "initial_state = {\n",
    "    \"message\": \"Give me some vibes!\",\n",
    "    \"vibe\": \"I'm feeling like a badass today!\"\n",
    "}"
   ]
  },
  {
   "cell_type": "code",
   "execution_count": 54,
   "id": "bae9d573",
   "metadata": {},
   "outputs": [],
   "source": [
    "result = graph.invoke(initial_state)"
   ]
  },
  {
   "cell_type": "code",
   "execution_count": 55,
   "id": "4b92a88c",
   "metadata": {},
   "outputs": [
    {
     "data": {
      "text/plain": [
       "{'message': 'Give me some vibes!',\n",
       " 'answer': \"Give me some vibes! I'm feeling like a badass today!\",\n",
       " 'vibe': \"I'm feeling like a badass today!\"}"
      ]
     },
     "execution_count": 55,
     "metadata": {},
     "output_type": "execute_result"
    }
   ],
   "source": [
    "result"
   ]
  },
  {
   "cell_type": "markdown",
   "id": "0a852cee",
   "metadata": {},
   "source": [
    "### Conditional Graph"
   ]
  },
  {
   "cell_type": "code",
   "execution_count": 56,
   "id": "52ca033f",
   "metadata": {},
   "outputs": [],
   "source": [
    "class State(BaseModel):\n",
    "    message: str\n",
    "    answer: str = \"\""
   ]
  },
  {
   "cell_type": "code",
   "execution_count": 57,
   "id": "e810e532",
   "metadata": {},
   "outputs": [],
   "source": [
    "def append_vibes_to_query(state: State) -> dict:\n",
    "\n",
    "    return {\n",
    "        \"answer\": \"I am here to add some vibes:\"\n",
    "        }"
   ]
  },
  {
   "cell_type": "code",
   "execution_count": 58,
   "id": "273574a6",
   "metadata": {},
   "outputs": [],
   "source": [
    "def router(state: State) -> Literal[\"append_vibe_1\", \"append_vibe_2\", \"append_vibe_3\"]:\n",
    "\n",
    "    vibes = [\"append_vibe_1\", \"append_vibe_2\", \"append_vibe_3\"]\n",
    "\n",
    "    vibe_path = random.choice(vibes)\n",
    "\n",
    "    return vibe_path"
   ]
  },
  {
   "cell_type": "code",
   "execution_count": 59,
   "id": "b9145974",
   "metadata": {},
   "outputs": [],
   "source": [
    "def append_vibe_1(state: State) -> dict:\n",
    "\n",
    "    vibe = \"I'm feeling like a badass today!\"\n",
    "\n",
    "    return {\n",
    "        \"answer\": f\"{state.answer} {state.message} {vibe}\"\n",
    "        }\n",
    "\n",
    "def append_vibe_2(state: State) -> dict:\n",
    "\n",
    "    vibe = \"I'm feeling like a boss today!\"\n",
    "\n",
    "    return {\n",
    "        \"answer\": f\"{state.answer} {state.message} {vibe}\"\n",
    "        }\n",
    "\n",
    "def append_vibe_3(state: State) -> dict:\n",
    "\n",
    "    vibe = \"I'm feeling like a legend today!\"\n",
    "\n",
    "    return {\n",
    "        \"answer\": f\"{state.answer} {state.message} {vibe}\"\n",
    "        }"
   ]
  },
  {
   "cell_type": "code",
   "execution_count": 60,
   "id": "0281de63",
   "metadata": {},
   "outputs": [],
   "source": [
    "workflow = StateGraph(State)\n",
    "\n",
    "workflow.add_node(\"append_vibes_to_query\", append_vibes_to_query)\n",
    "workflow.add_node(\"append_vibe_1\", append_vibe_1)\n",
    "workflow.add_node(\"append_vibe_2\", append_vibe_2)\n",
    "workflow.add_node(\"append_vibe_3\", append_vibe_3)\n",
    "\n",
    "workflow.add_edge(START, \"append_vibes_to_query\")\n",
    "\n",
    "workflow.add_conditional_edges(\n",
    "    \"append_vibes_to_query\",\n",
    "    router\n",
    ")\n",
    "\n",
    "workflow.add_edge(\"append_vibe_1\", END)\n",
    "workflow.add_edge(\"append_vibe_2\", END)\n",
    "workflow.add_edge(\"append_vibe_3\", END)\n",
    "\n",
    "graph = workflow.compile()"
   ]
  },
  {
   "cell_type": "code",
   "execution_count": 61,
   "id": "a94f646a",
   "metadata": {},
   "outputs": [
    {
     "data": {
      "image/png": "[encoded data removed]",
      "text/plain": [
       "<IPython.core.display.Image object>"
      ]
     },
     "metadata": {},
     "output_type": "display_data"
    }
   ],
   "source": [
    "display(Image(graph.get_graph().draw_mermaid_png()))"
   ]
  },
  {
   "cell_type": "markdown",
   "id": "c79c5cef",
   "metadata": {},
   "source": [
    "### Agent Graph with Loopback from Tools"
   ]
  },
  {
   "cell_type": "code",
   "execution_count": 62,
   "id": "18dded28",
   "metadata": {},
   "outputs": [],
   "source": [
    "def append_vibes(query: str, vibe: str) -> str:\n",
    "    \"\"\"Takes in a query and a vibe and returns a string with the query and vibe appended.\n",
    "\n",
    "    Args:\n",
    "        query: The query to append the vibe to.\n",
    "        vibe: The vibe to append to the query.\n",
    "\n",
    "    Returns:\n",
    "        A string with the query and vibe appended.\n",
    "    \"\"\"\n",
    "    \n",
    "    return f\"{query} {vibe}\""
   ]
  },
  {
   "cell_type": "code",
   "execution_count": 63,
   "id": "f0dcc709",
   "metadata": {},
   "outputs": [
    {
     "data": {
      "text/plain": [
       "[{'name': 'append_vibes',\n",
       "  'description': 'Takes in a query and a vibe and returns a string with the query and vibe appended.',\n",
       "  'parameters': {'type': 'object',\n",
       "   'properties': {'query': {'type': 'string',\n",
       "     'description': 'The query to append the vibe to.'},\n",
       "    'vibe': {'type': 'string',\n",
       "     'description': 'The vibe to append to the query.'}}},\n",
       "  'required': ['query', 'vibe'],\n",
       "  'returns': {'type': 'string',\n",
       "   'description': 'A string with the query and vibe appended.'}}]"
      ]
     },
     "execution_count": 63,
     "metadata": {},
     "output_type": "execute_result"
    }
   ],
   "source": [
    "get_tool_descriptions([append_vibes])"
   ]
  },
  {
   "cell_type": "code",
   "execution_count": 64,
   "id": "a4182f32",
   "metadata": {},
   "outputs": [],
   "source": [
    "class ToolCall(BaseModel):\n",
    "    name: str\n",
    "    arguments: dict\n",
    "\n",
    "class AgentResponse(BaseModel):\n",
    "    answer: str\n",
    "    tool_calls: List[ToolCall] = Field(default_factory=list)\n",
    "\n",
    "class State(BaseModel):\n",
    "    messages: Annotated[List[Any], add] = []\n",
    "    message: str = \"\"\n",
    "    iteration: int = 0\n",
    "    answer: str = \"\"\n",
    "    available_tools: List[Dict[str, Any]] = []\n",
    "    tool_calls: List[ToolCall] = []"
   ]
  },
  {
   "cell_type": "code",
   "execution_count": 65,
   "id": "01659c74",
   "metadata": {},
   "outputs": [],
   "source": [
    "def agent_node(state: State) -> dict:\n",
    "\n",
    "   prompt_template =  \"\"\"You are a assistant that is generating vibes for a user.\n",
    "\n",
    "You will be given a selection of tools you can use to add vibes to a user's query.\n",
    "\n",
    "<Available tools>\n",
    "{{ available_tools | tojson }}\n",
    "</Available tools>\n",
    "\n",
    "When you need to use a tool, format your response as:\n",
    "\n",
    "<tool_call>\n",
    "{\"name\": \"tool_name\", \"arguments\": {...}}\n",
    "</tool_call>\n",
    "\n",
    "Instructions:\n",
    "- You need to use the tools to add vibes to the user's query.\n",
    "- Add a random vibe to the user's query.\n",
    "- You must return a tool call in the first interaction.\n",
    "\"\"\"\n",
    "\n",
    "   template = Template(prompt_template)\n",
    "   \n",
    "   prompt = template.render(\n",
    "      available_tools=state.available_tools\n",
    "   )\n",
    "\n",
    "   messages = state.messages\n",
    "\n",
    "   conversation = convert_to_openai_messages(messages)\n",
    "\n",
    "   client = instructor.from_openai(OpenAI())\n",
    "\n",
    "   response, raw_response = client.chat.completions.create_with_completion(\n",
    "        model=\"gpt-4.1-mini\",\n",
    "        response_model=AgentResponse,\n",
    "        messages=[{\"role\": \"system\", \"content\": prompt}, *conversation],\n",
    "        temperature=0.5,\n",
    "   )\n",
    "\n",
    "   ai_message = format_ai_message(response)\n",
    "\n",
    "   return {\n",
    "      \"messages\": [ai_message],\n",
    "      \"tool_calls\": response.tool_calls,\n",
    "      \"iteration\": state.iteration + 1,\n",
    "      \"answer\": response.answer\n",
    "   }"
   ]
  },
  {
   "cell_type": "code",
   "execution_count": 66,
   "id": "2530f780",
   "metadata": {},
   "outputs": [],
   "source": [
    "def tool_router(state: State) -> str:\n",
    "    \"\"\"Decide whether to continue or end\"\"\"\n",
    "    \n",
    "    if len(state.tool_calls) > 0:\n",
    "        return \"tools\"\n",
    "    else:\n",
    "        return \"end\""
   ]
  },
  {
   "cell_type": "code",
   "execution_count": 67,
   "id": "4305d3ee",
   "metadata": {},
   "outputs": [],
   "source": [
    "workflow = StateGraph(State)\n",
    "\n",
    "tools = [append_vibes]\n",
    "tool_node = ToolNode(tools)\n",
    "tool_descriptions = get_tool_descriptions(tools)\n",
    "\n",
    "workflow.add_node(\"agent_node\", agent_node)\n",
    "workflow.add_node(\"tool_node\", tool_node)\n",
    "\n",
    "workflow.add_edge(START, \"agent_node\")\n",
    "workflow.add_conditional_edges(\n",
    "    \"agent_node\",\n",
    "    tool_router,\n",
    "    {\n",
    "        \"tools\": \"tool_node\",\n",
    "        \"end\": END\n",
    "    }\n",
    ")\n",
    "workflow.add_edge(\"tool_node\", END)\n",
    "\n",
    "graph = workflow.compile()"
   ]
  },
  {
   "cell_type": "code",
   "execution_count": 68,
   "id": "7385b399",
   "metadata": {},
   "outputs": [
    {
     "data": {
      "image/png": "[encoded data removed]",
      "text/plain": [
       "<IPython.core.display.Image object>"
      ]
     },
     "metadata": {},
     "output_type": "display_data"
    }
   ],
   "source": [
    "display(Image(graph.get_graph().draw_mermaid_png()))"
   ]
  },
  {
   "cell_type": "code",
   "execution_count": 69,
   "id": "16eaa39b",
   "metadata": {},
   "outputs": [],
   "source": [
    "initial_state = {\n",
    "    \"message\": \"Give me some vibes!\",\n",
    "    \"available_tools\": tool_descriptions\n",
    "}\n",
    "result = graph.invoke(initial_state)"
   ]
  },
  {
   "cell_type": "code",
   "execution_count": 70,
   "id": "54af5d98",
   "metadata": {},
   "outputs": [
    {
     "data": {
      "text/plain": [
       "{'messages': [AIMessage(content='', additional_kwargs={}, response_metadata={}, tool_calls=[{'name': 'append_vibes', 'args': {'query': 'Generate vibes for me', 'vibe': 'chill and positive'}, 'id': 'call_0', 'type': 'tool_call'}]),\n",
       "  ToolMessage(content='Generate vibes for me chill and positive', name='append_vibes', tool_call_id='call_0')],\n",
       " 'message': 'Give me some vibes!',\n",
       " 'iteration': 1,\n",
       " 'answer': '',\n",
       " 'available_tools': [{'name': 'append_vibes',\n",
       "   'description': 'Takes in a query and a vibe and returns a string with the query and vibe appended.',\n",
       "   'parameters': {'type': 'object',\n",
       "    'properties': {'query': {'type': 'string',\n",
       "      'description': 'The query to append the vibe to.'},\n",
       "     'vibe': {'type': 'string',\n",
       "      'description': 'The vibe to append to the query.'}}},\n",
       "   'required': ['query', 'vibe'],\n",
       "   'returns': {'type': 'string',\n",
       "    'description': 'A string with the query and vibe appended.'}}],\n",
       " 'tool_calls': [ToolCall(name='append_vibes', arguments={'query': 'Generate vibes for me', 'vibe': 'chill and positive'})]}"
      ]
     },
     "execution_count": 70,
     "metadata": {},
     "output_type": "execute_result"
    }
   ],
   "source": [
    "result"
   ]
  },
  {
   "cell_type": "markdown",
   "id": "9c0e9e16",
   "metadata": {},
   "source": [
    "### Agent Graph with Loopback from Tools"
   ]
  },
  {
   "cell_type": "code",
   "execution_count": 71,
   "id": "d4d6508e",
   "metadata": {},
   "outputs": [],
   "source": [
    "def append_vibes(query: str, vibe: str) -> str:\n",
    "    \"\"\"Takes in a query and a vibe and returns a string with the query and vibe appended.\n",
    "\n",
    "    Args:\n",
    "        query: The query to append the vibe to.\n",
    "        vibe: The vibe to append to the query.\n",
    "\n",
    "    Returns:\n",
    "        A string with the query and vibe appended.\n",
    "    \"\"\"\n",
    "    \n",
    "    return f\"{query} {vibe}\""
   ]
  },
  {
   "cell_type": "code",
   "execution_count": 72,
   "id": "5ce6d639",
   "metadata": {},
   "outputs": [],
   "source": [
    "class ToolCall(BaseModel):\n",
    "    name: str\n",
    "    arguments: dict\n",
    "\n",
    "class AgentResponse(BaseModel):\n",
    "    answer: str\n",
    "    tool_calls: List[ToolCall] = Field(default_factory=list)\n",
    "\n",
    "class State(BaseModel):\n",
    "    messages: Annotated[List[Any], add] = []\n",
    "    message: str = \"\"\n",
    "    iteration: int = 0\n",
    "    answer: str = \"\"\n",
    "    available_tools: List[Dict[str, Any]] = []\n",
    "    tool_calls: List[ToolCall] = []"
   ]
  },
  {
   "cell_type": "code",
   "execution_count": 73,
   "id": "7afdc8af",
   "metadata": {},
   "outputs": [],
   "source": [
    "def agent_node(state: State) -> dict:\n",
    "\n",
    "   prompt_template =  \"\"\"You are a assistant that is generating vibes for a user.\n",
    "\n",
    "You will be given a selection of tools you can use to add vibes to a user's query.\n",
    "\n",
    "<Available tools>\n",
    "{{ available_tools | tojson }}\n",
    "</Available tools>\n",
    "\n",
    "When you need to use a tool, format your response as:\n",
    "\n",
    "<tool_call>\n",
    "{\"name\": \"tool_name\", \"arguments\": {...}}\n",
    "</tool_call>\n",
    "\n",
    "Instructions:\n",
    "- You need to use the tools to add vibes to the user's query.\n",
    "- Add a random vibe to the user's query.\n",
    "- You must return a tool call in the first interaction.\n",
    "\"\"\"\n",
    "\n",
    "   template = Template(prompt_template)\n",
    "   \n",
    "   prompt = template.render(\n",
    "      available_tools=state.available_tools\n",
    "   )\n",
    "\n",
    "   messages = state.messages\n",
    "\n",
    "   conversation = convert_to_openai_messages(messages)\n",
    "\n",
    "   client = instructor.from_openai(OpenAI())\n",
    "\n",
    "   response, raw_response = client.chat.completions.create_with_completion(\n",
    "        model=\"gpt-4.1-mini\",\n",
    "        response_model=AgentResponse,\n",
    "        messages=[{\"role\": \"system\", \"content\": prompt}, *conversation],\n",
    "        temperature=0.5,\n",
    "   )\n",
    "\n",
    "   ai_message = format_ai_message(response)\n",
    "\n",
    "   return {\n",
    "      \"messages\": [ai_message],\n",
    "      \"tool_calls\": response.tool_calls,\n",
    "      \"iteration\": state.iteration + 1,\n",
    "      \"answer\": response.answer\n",
    "   }"
   ]
  },
  {
   "cell_type": "code",
   "execution_count": 74,
   "id": "eab1013b",
   "metadata": {},
   "outputs": [],
   "source": [
    "def tool_router(state: State) -> str:\n",
    "    \"\"\"Decide whether to continue or end\"\"\"\n",
    "    \n",
    "    if state.iteration > 1:\n",
    "        return \"end\"\n",
    "    elif len(state.tool_calls) > 0:\n",
    "        return \"tools\"\n",
    "    else:\n",
    "        return \"end\""
   ]
  },
  {
   "cell_type": "code",
   "execution_count": 75,
   "id": "7cd73708",
   "metadata": {},
   "outputs": [],
   "source": [
    "workflow = StateGraph(State)\n",
    "\n",
    "tools = [append_vibes]\n",
    "tool_node = ToolNode(tools)\n",
    "tool_descriptions = get_tool_descriptions(tools)\n",
    "\n",
    "workflow.add_node(\"agent_node\", agent_node)\n",
    "workflow.add_node(\"tool_node\", tool_node)\n",
    "\n",
    "workflow.add_edge(START, \"agent_node\")\n",
    "workflow.add_conditional_edges(\n",
    "    \"agent_node\",\n",
    "    tool_router,\n",
    "    {\n",
    "        \"tools\": \"tool_node\",\n",
    "        \"end\": END\n",
    "    }\n",
    ")\n",
    "\n",
    "workflow.add_edge(\"tool_node\", \"agent_node\")\n",
    "\n",
    "graph = workflow.compile()"
   ]
  },
  {
   "cell_type": "code",
   "execution_count": 76,
   "id": "5e148ed2",
   "metadata": {},
   "outputs": [
    {
     "data": {
      "image/png": "[encoded data removed]",
      "text/plain": [
       "<IPython.core.display.Image object>"
      ]
     },
     "metadata": {},
     "output_type": "display_data"
    }
   ],
   "source": [
    "display(Image(graph.get_graph().draw_mermaid_png()))"
   ]
  },
  {
   "cell_type": "code",
   "execution_count": 77,
   "id": "8c83b293",
   "metadata": {},
   "outputs": [],
   "source": [
    "initial_state = {\n",
    "    \"messages\": [{\"role\": \"user\", \"content\": \"Give me some vibes!\"}],\n",
    "    \"available_tools\": tool_descriptions\n",
    "}\n",
    "result = graph.invoke(initial_state)"
   ]
  },
  {
   "cell_type": "code",
   "execution_count": 78,
   "id": "c146c7f3",
   "metadata": {},
   "outputs": [
    {
     "data": {
      "text/plain": [
       "{'messages': [{'role': 'user', 'content': 'Give me some vibes!'},\n",
       "  AIMessage(content='', additional_kwargs={}, response_metadata={}, tool_calls=[{'name': 'append_vibes', 'args': {'query': 'Give me some vibes!', 'vibe': 'chill and positive'}, 'id': 'call_0', 'type': 'tool_call'}]),\n",
       "  ToolMessage(content='Give me some vibes! chill and positive', name='append_vibes', tool_call_id='call_0'),\n",
       "  AIMessage(content='Here is your vibe!', additional_kwargs={}, response_metadata={}, tool_calls=[{'name': 'append_vibes', 'args': {'query': 'Give me some vibes!', 'vibe': 'chill and positive'}, 'id': 'call_0', 'type': 'tool_call'}])],\n",
       " 'iteration': 2,\n",
       " 'answer': 'Here is your vibe!',\n",
       " 'available_tools': [{'name': 'append_vibes',\n",
       "   'description': 'Takes in a query and a vibe and returns a string with the query and vibe appended.',\n",
       "   'parameters': {'type': 'object',\n",
       "    'properties': {'query': {'type': 'string',\n",
       "      'description': 'The query to append the vibe to.'},\n",
       "     'vibe': {'type': 'string',\n",
       "      'description': 'The vibe to append to the query.'}}},\n",
       "   'required': ['query', 'vibe'],\n",
       "   'returns': {'type': 'string',\n",
       "    'description': 'A string with the query and vibe appended.'}}],\n",
       " 'tool_calls': [ToolCall(name='append_vibes', arguments={'query': 'Give me some vibes!', 'vibe': 'chill and positive'})]}"
      ]
     },
     "execution_count": 78,
     "metadata": {},
     "output_type": "execute_result"
    }
   ],
   "source": [
    "result"
   ]
  }
 ],
 "metadata": {
  "kernelspec": {
   "display_name": ".venv",
   "language": "python",
   "name": "python3"
  },
  "language_info": {
   "codemirror_mode": {
    "name": "ipython",
    "version": 3
   },
   "file_extension": ".py",
   "mimetype": "text/x-python",
   "name": "python",
   "nbconvert_exporter": "python",
   "pygments_lexer": "ipython3",
   "version": "3.12.11"
  }
 },
 "nbformat": 4,
 "nbformat_minor": 5
}
